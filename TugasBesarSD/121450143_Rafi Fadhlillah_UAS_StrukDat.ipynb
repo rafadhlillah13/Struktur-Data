{
 "cells": [
  {
   "cell_type": "markdown",
   "id": "b1d524cf-f311-4ade-95f2-5700b7c413e2",
   "metadata": {},
   "source": [
    "## UAS Struktur Data"
   ]
  },
  {
   "cell_type": "markdown",
   "id": "c0c7ea1b-0bee-430e-a3e2-a8be39cc48e3",
   "metadata": {},
   "source": [
    "Nama : Rafi Fadhlillah <br>\n",
    "NIM : 121450143 <br>\n",
    "Kelas : RC"
   ]
  },
  {
   "cell_type": "markdown",
   "id": "9ef02af4-6f0b-40ab-8760-e32676bfdfe7",
   "metadata": {},
   "source": [
    "## Nomor 1"
   ]
  },
  {
   "cell_type": "markdown",
   "id": "69773240-d17e-480f-8f3c-f731e2553f8b",
   "metadata": {},
   "source": [
    "a. Implementasikan class diagram berikut menjadi program python!"
   ]
  },
  {
   "cell_type": "code",
   "execution_count": 1,
   "id": "e1137344-6c89-403d-b58a-fb22550a08ed",
   "metadata": {},
   "outputs": [],
   "source": [
    "class Koordinat:\n",
    "\tdef __init__(self,x,y):\n",
    "\t\tself.z = 0\n",
    "\t\tself.x = x\n",
    "\t\tself.y = y\n",
    "\tdef set_x(self,x):\n",
    "\t\tself.x = x\n",
    "\tdef increment_x(self):\n",
    "\t\tself.x+=1\n",
    "\tdef __str__(self):\n",
    "\t\treturn f\"x : {self.x} , y:{self.y} , z:{self.z}\""
   ]
  },
  {
   "cell_type": "markdown",
   "id": "74f9ce3e-720e-4f59-b041-f5c611077f3c",
   "metadata": {},
   "source": [
    "b. Buatlah fungsi untuk menghitung norm dari vector berdasarkan class yang telah anda\n",
    "buat!"
   ]
  },
  {
   "cell_type": "code",
   "execution_count": 2,
   "id": "c4727234-ac64-44f2-90c5-b5e802e98445",
   "metadata": {},
   "outputs": [],
   "source": [
    "import math"
   ]
  },
  {
   "cell_type": "code",
   "execution_count": 3,
   "id": "b9f97d18-ae0c-40f3-a92f-fabf344db50a",
   "metadata": {},
   "outputs": [
    {
     "name": "stdout",
     "output_type": "stream",
     "text": [
      "Hasil Norm dari vektor a(4,6,9) adalah 11.532562594670797\n"
     ]
    }
   ],
   "source": [
    "class Koordinat:\n",
    "  def __init__(self,x,y,z):\n",
    "    self.x = x\n",
    "    self.y = y\n",
    "    self.z = z\n",
    "\n",
    "  def setx(self, x):\n",
    "    self.x = x\n",
    "    \n",
    "  def sety(self, y):\n",
    "    self.y = y\n",
    "\n",
    "  def setz(self, z):\n",
    "    self.z = z\n",
    "\n",
    "\n",
    "class Vektor(Koordinat):  \n",
    "  def setKoordinat(self, Koordinat):\n",
    "    self.Koordinat = Koordinat\n",
    "\n",
    "  def getKoordinat(self):\n",
    "    return self.Koordinat\n",
    "\n",
    "  def norm(self):\n",
    "    return math.sqrt(self.x**2 + self.y**2 + self.z**2)\n",
    "\n",
    "  def __sub__(self, other):\n",
    "    return Vektor(self.x - other.x, self.y - other.y, self.z - other.z)\n",
    "\n",
    "  def __pow__(self, power):\n",
    "    return Vektor(self.x**power, self.y**power, self.z**power)\n",
    "\n",
    "  def __iter__(self):\n",
    "    yield self.x\n",
    "    yield self.y\n",
    "    yield self.z    \n",
    "\n",
    "  def euclidianDistance(self, other):\n",
    "    return sum((self - other)**2)**0.5\n",
    "\n",
    "\n",
    "a = Vektor(4,6,9)\n",
    "hasil = a.norm()\n",
    "print('Hasil Norm dari vektor a({},{},{}) adalah {}'.format(a.x,a.y,a.z,hasil))"
   ]
  },
  {
   "cell_type": "markdown",
   "id": "6953867a-a9d9-4d7a-9738-9b77e1914fb5",
   "metadata": {},
   "source": [
    "c. Euclidian Distance adalah jarak antara 2 vector dan didefinisikan sebagai"
   ]
  },
  {
   "cell_type": "code",
   "execution_count": 4,
   "id": "ab26e389-47c7-4d4c-92cd-6e6c8ef38354",
   "metadata": {},
   "outputs": [
    {
     "name": "stdout",
     "output_type": "stream",
     "text": [
      "Euclidian Distance dari vektor A =  5.196152422706632\n"
     ]
    }
   ],
   "source": [
    "v1 = Vektor(3, 4, 5)\n",
    "v2 = Vektor(0, 1, 2)\n",
    "\n",
    "print(\"Euclidian Distance dari vektor A = \", v1.euclidianDistance(v2))"
   ]
  },
  {
   "cell_type": "markdown",
   "id": "e7ab2132-39dc-447d-ac84-c292b331af35",
   "metadata": {},
   "source": [
    "## Nomor 2"
   ]
  },
  {
   "cell_type": "markdown",
   "id": "ef24c5af-11c1-4970-a7a6-b3c8b5c81ae5",
   "metadata": {},
   "source": [
    "Buatlah program LinkedDeque berdasarkan konsep Double Linked List\n",
    "menggunakan ADT dibawah ini!"
   ]
  },
  {
   "cell_type": "code",
   "execution_count": 5,
   "id": "159ca7fd-2242-4607-b126-6c31a34d6fad",
   "metadata": {},
   "outputs": [],
   "source": [
    "class linkedDequeu:\n",
    "\n",
    "  def __init__(self):\n",
    "    self._data = []\n",
    "    self._size = 0\n",
    "\n",
    "  def __len__(self):\n",
    "    return self._size\n",
    "\n",
    "  @property\n",
    "  def view(self):\n",
    "    return self._data\n",
    "\n",
    "  def first(self):\n",
    "    return self._data[0]\n",
    "\n",
    "  def add_first(self, item):\n",
    "    self._data.append(item)\n",
    "    self._data.insert(0, self._data.pop())\n",
    "    self._size += 1\n",
    "\n",
    "  def last(self):\n",
    "    return self._data[-1]\n",
    "\n",
    "  def add_last(self, item):\n",
    "    self._data.append(item)\n",
    "    self._size += 1\n",
    "\n",
    "  def isempty(self):\n",
    "    return self._size == 0\n",
    "\n",
    "  def  delete_first(self):\n",
    "    if self.isempty():\n",
    "      return Exception(\"queue kosong\")\n",
    "    else:\n",
    "      self._size -= 1\n",
    "      return self._data.pop(0)\n",
    "    \n",
    "  def delete_last(self):\n",
    "    if self.isempty():\n",
    "      raise Exception(\"queue kosong\")\n",
    "\n",
    "    else:\n",
    "      self._size -= 1\n",
    "      return self._data.pop()\n",
    "\n"
   ]
  },
  {
   "cell_type": "code",
   "execution_count": 6,
   "id": "e95bc19c-76bd-440d-bccf-a873702f2a0b",
   "metadata": {},
   "outputs": [
    {
     "name": "stdout",
     "output_type": "stream",
     "text": [
      "7\n",
      "5\n",
      "2\n",
      "3\n",
      "7\n",
      "6\n",
      "False\n",
      "6\n"
     ]
    }
   ],
   "source": [
    "D = linkedDequeu()\n",
    "\n",
    "D.add_last(5)\n",
    "D.add_first(3)\n",
    "D.add_first(7)\n",
    "print(D.first())\n",
    "print(D.delete_last())\n",
    "print(len(D))\n",
    "print(D.delete_last())\n",
    "print(D.delete_last())\n",
    "D.add_first(6)\n",
    "print(D.last())\n",
    "D.add_first(8)\n",
    "print(D.isempty())\n",
    "print(D.last())"
   ]
  },
  {
   "cell_type": "markdown",
   "id": "e3e5feae-f613-4e88-9b3a-a93ee0724dc6",
   "metadata": {},
   "source": [
    "## Nomor 3"
   ]
  },
  {
   "cell_type": "markdown",
   "id": "f9b34467-6966-4da1-9f48-39027c8d8951",
   "metadata": {},
   "source": [
    "Terdapat urutan input data sebagai berikut : 20, 10, 40, 30, 35, 24, 33, 28, 34, 31.\n",
    "Buatlah program Binary Search Tree berdasarkan input data tersebut dan outputkan\n",
    "penelusuran secara In Order dan Post Order!"
   ]
  },
  {
   "cell_type": "code",
   "execution_count": 7,
   "id": "3a98277c-a435-4b65-8f23-27939d1379ec",
   "metadata": {},
   "outputs": [],
   "source": [
    "class Node:\n",
    "    def __init__(self, key):\n",
    "        self.key = key\n",
    "        self.left = None\n",
    "        self.right = None\n",
    "\n",
    "# Inorder traversal\n",
    "def inorder(root):\n",
    "    if root is not None:\n",
    "        # Traverse left\n",
    "        inorder(root.left)\n",
    "\n",
    "        # Traverse root\n",
    "        print(str(root.key) + \"->\", end=' ')\n",
    "\n",
    "        # Traverse right\n",
    "        inorder(root.right)\n",
    "\n",
    "# Preorder traversal\n",
    "def postorder(root):\n",
    "    if root is not None:\n",
    "        # Traverse left\n",
    "        postorder(root.left)\n",
    "\n",
    "        # Traverse right\n",
    "        postorder(root.right)\n",
    "\n",
    "        # Traverse root\n",
    "        print(str(root.key) + \"->\", end=' ')\n",
    "\n",
    "# Insert a node\n",
    "def insert(node, key):\n",
    "\n",
    "    # Return a new node if the tree is empty\n",
    "    if node is None:\n",
    "        return Node(key)\n",
    "\n",
    "    # Traverse to the right place and insert the node\n",
    "    if key < node.key:\n",
    "        node.left = insert(node.left, key)\n",
    "    else:\n",
    "        node.right = insert(node.right, key)\n",
    "\n",
    "    return node\n",
    "\n",
    "\n",
    "# Find the inorder successor\n",
    "def minValueNode(node):\n",
    "    current = node\n",
    "\n",
    "    # Find the leftmost leaf\n",
    "    while(current.left is not None):\n",
    "        current = current.left\n",
    "\n",
    "    return current\n",
    "\n",
    "\n",
    "# Deleting a node\n",
    "def deleteNode(root, key):\n",
    "\n",
    "    # Return if the tree is empty\n",
    "    if root is None:\n",
    "        return root\n",
    "\n",
    "    # Find the node to be deleted\n",
    "    if key < root.key:\n",
    "        root.left = deleteNode(root.left, key)\n",
    "    elif(key > root.key):\n",
    "        root.right = deleteNode(root.right, key)\n",
    "    else:\n",
    "        # If the node is with only one child or no child\n",
    "        if root.left is None:\n",
    "            temp = root.right\n",
    "            root = None\n",
    "            return temp\n",
    "\n",
    "        elif root.right is None:\n",
    "            temp = root.left\n",
    "            root = None\n",
    "            return temp\n",
    "\n",
    "        # If the node has two children,\n",
    "        # place the inorder successor in position of the node to be deleted\n",
    "        temp = minValueNode(root.right)\n",
    "\n",
    "        root.key = temp.key\n",
    "\n",
    "        # Delete the inorder successor\n",
    "        root.right = deleteNode(root.right, temp.key)\n",
    "\n",
    "    return root"
   ]
  },
  {
   "cell_type": "code",
   "execution_count": 8,
   "id": "0dee074d-42a0-4b8e-abe9-2b2fd5a69549",
   "metadata": {},
   "outputs": [
    {
     "name": "stdout",
     "output_type": "stream",
     "text": [
      "Inorder traversal:  10-> 20-> 24-> 28-> 30-> 31-> 33-> 34-> 35-> 40-> \n",
      "postorder traversal:  10-> 28-> 24-> 31-> 34-> 33-> 35-> 30-> 40-> 20-> "
     ]
    }
   ],
   "source": [
    "root = None\n",
    "root = insert(root, 20)\n",
    "root = insert(root, 10)\n",
    "root = insert(root, 40)\n",
    "root = insert(root, 30)\n",
    "root = insert(root, 35)\n",
    "root = insert(root, 24)\n",
    "root = insert(root, 33)\n",
    "root = insert(root, 28)\n",
    "root = insert(root, 34)\n",
    "root = insert(root, 31)\n",
    "\n",
    "print(\"Inorder traversal: \", end=' ')\n",
    "inorder(root)\n",
    "\n",
    "print(\"\\npostorder traversal: \", end=' ')\n",
    "postorder(root)"
   ]
  },
  {
   "cell_type": "markdown",
   "id": "671a0df0-15e5-4f84-92b3-127ddab76dec",
   "metadata": {},
   "source": [
    "## Nomor 4"
   ]
  },
  {
   "cell_type": "markdown",
   "id": "6520d355-af0e-4027-a49b-1660238c6cfc",
   "metadata": {},
   "source": [
    "Diketahui Graph G dibawah ini sebagai berikut. Lakukan penelusuran pada\n",
    "Graph G tersebut dimulai dari node S. Buatlah program Breadth First Search untuk\n",
    "mengoutputkan urutan node yang dikunjungi untuk setiap iterasi !"
   ]
  },
  {
   "cell_type": "code",
   "execution_count": 9,
   "id": "060ab70f-99eb-4ba1-a394-481cb3e2ffe6",
   "metadata": {},
   "outputs": [
    {
     "data": {
      "text/plain": [
       "['S', 'A', 'G']"
      ]
     },
     "execution_count": 9,
     "metadata": {},
     "output_type": "execute_result"
    }
   ],
   "source": [
    "lokasi = {\n",
    "    'S':{'A': 10,'E': 10, 'D': 35, 'C': 30, 'B':25},\n",
    "    'A':{'B': 10,'G': 90},\n",
    "    'B':{'F': 5,'K': 50},\n",
    "    'C':{'H': 40},\n",
    "    'D':{'H': 25,'L': 52},\n",
    "    'E':{'J': 20},\n",
    "    'F':{'K': 40},\n",
    "    'H':{'L': 25}, \n",
    "    'J':{'M': 40},\n",
    "    'K':{'G': 30},\n",
    "    'L':{'G': 40},\n",
    "    'M':{'G': 80},\n",
    "    'G':{}\n",
    "}\n",
    "\n",
    "def bfs(graf, mulai, tujuan):\n",
    "    queue = [[mulai]]\n",
    "    visited = set()\n",
    "\n",
    "    while queue:     \n",
    "        jalur = queue.pop(0)\n",
    "        state = jalur[-1]\n",
    "        if state == tujuan:\n",
    "            return jalur\n",
    "        elif state not in visited:\n",
    "            for cabang in graf.get(state, []):\n",
    "                jalur_baru = list(jalur)\n",
    "                jalur_baru.append(cabang) \n",
    "                queue.append(jalur_baru) \n",
    "\n",
    "            visited.add(state)\n",
    "        isi = len(queue)\n",
    "        if isi == 0:\n",
    "            print(\"Tidak ditemukan\")\n",
    "\n",
    "bfs(lokasi, 'S', 'G')"
   ]
  },
  {
   "cell_type": "markdown",
   "id": "c73199c4-98e5-4faf-974a-9090843e50ee",
   "metadata": {},
   "source": [
    "## Nomor 5"
   ]
  },
  {
   "cell_type": "markdown",
   "id": "110fcc1f-fbae-46e9-95bd-0c293a743ca0",
   "metadata": {},
   "source": [
    "Graph di atas merupakan representasi sederhana dari keterhubungan antar kota\n",
    "di suatu daerah. Setiap node menunjukkan satu kota. Keterhubungan antar kota ditunjukkan\n",
    "oleh busur di antara keduanya. Bilangan pada busur menyatakan jarak antar kedua kota yang\n",
    "dihubungkan oleh busur tersebut.\n",
    "Buatlah program mencari jarak terdekat dari S ke G menggunakan algoritma Dijkstra !"
   ]
  },
  {
   "cell_type": "code",
   "execution_count": 10,
   "id": "d036c5a8-f624-498f-b0b0-ee736433d7df",
   "metadata": {},
   "outputs": [],
   "source": [
    "infinity = float('infinity')\n",
    "mulai = 'S'\n",
    "berhenti = 'G'\n",
    "\n",
    "\n",
    "lokasi = {\n",
    "    'S':{'A': 10,'E': 10, 'D': 35, 'C': 30, 'B':25},\n",
    "    'A':{'B': 10,'G': 90},\n",
    "    'B':{'F': 5,'K': 50},\n",
    "    'C':{'H': 40},\n",
    "    'D':{'H': 25,'L': 52},\n",
    "    'E':{'J': 20},\n",
    "    'F':{'K': 40},\n",
    "    'H':{'L': 25}, \n",
    "    'J':{'M': 40},\n",
    "    'K':{'G': 30},\n",
    "    'L':{'G': 40},\n",
    "    'M':{'G': 80},\n",
    "    'G':{}\n",
    "}"
   ]
  },
  {
   "cell_type": "code",
   "execution_count": 11,
   "id": "4390267e-5f39-4657-a6a8-69c520bbe516",
   "metadata": {},
   "outputs": [],
   "source": [
    "distance = {}   # distance = jarak yang perlu ditempuh\n",
    "city= {}    # city = data lokasi\n",
    "for node in lokasi: # looping data pendefinisian lokasi\n",
    "  distance[node] = infinity # inisialisasi dist dengan nilai infinity (anggapannya node ini belum dikunjungi)\n",
    "  city[node] = {} # inisialisasi parent tanpa node{}\n",
    "\n",
    "distance[mulai] = 0 # atur jarak pertama dengan nilai 0\n",
    "\n",
    "def find_cheapest_node(distance,not_checked):\n",
    "  lowest_dist = infinity\n",
    "  cheapest_node = ''\n",
    "  for node in distance:\n",
    "    if node in not_checked and distance[node] <= lowest_dist:\n",
    "      lowest_dist = distance[node]\n",
    "      cheapest_node = node\n",
    "  return cheapest_node"
   ]
  },
  {
   "cell_type": "code",
   "execution_count": 12,
   "id": "613c904f-b61b-4647-9ff5-d4ddde5f9fe7",
   "metadata": {},
   "outputs": [
    {
     "name": "stdout",
     "output_type": "stream",
     "text": [
      " \n",
      "Jarak tempuh terpendek dari S ke G sejauh 95 km!\n",
      "##################################################\n",
      "Rutenya adalah ['S', 'A', 'B', 'F', 'K', 'G']\n"
     ]
    }
   ],
   "source": [
    "not_checked = [node for node in distance]\n",
    "node = find_cheapest_node(distance, not_checked)\n",
    "\n",
    "while not_checked:\n",
    "  dist = distance[node]\n",
    "  child_dist = lokasi[node]\n",
    "  for c in child_dist:\n",
    "    if distance[c] > dist + child_dist[c]:\n",
    "      distance[c] = dist + child_dist[c]\n",
    "      city[c] = node\n",
    "  \n",
    "  not_checked.pop(not_checked.index(node))\n",
    "  node = find_cheapest_node(distance, not_checked)\n",
    "\n",
    "print(' ')\n",
    "print(f'Jarak tempuh terpendek dari {mulai} ke {berhenti} sejauh {distance[berhenti]} km!')\n",
    "\n",
    "if distance[berhenti] < infinity:\n",
    "  rute = [berhenti]\n",
    "  \n",
    "  i = 0\n",
    "  while mulai not in rute:\n",
    "    rute.append(city[rute[i]])\n",
    "    i += 1\n",
    "  \n",
    "  barrier = '#'\n",
    "  print(barrier*50)\n",
    "  print(f'Rutenya adalah {rute[::-1]}')\n",
    "\n",
    "else:\n",
    "  print('Rute tidak dapat ditemukan')"
   ]
  }
 ],
 "metadata": {
  "kernelspec": {
   "display_name": "Python 3 (ipykernel)",
   "language": "python",
   "name": "python3"
  },
  "language_info": {
   "codemirror_mode": {
    "name": "ipython",
    "version": 3
   },
   "file_extension": ".py",
   "mimetype": "text/x-python",
   "name": "python",
   "nbconvert_exporter": "python",
   "pygments_lexer": "ipython3",
   "version": "3.10.4"
  }
 },
 "nbformat": 4,
 "nbformat_minor": 5
}
