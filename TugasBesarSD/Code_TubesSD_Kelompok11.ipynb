{
 "cells": [
  {
   "cell_type": "markdown",
   "id": "ba3d4cf4-c73f-4bab-9d61-11fff6f82bb2",
   "metadata": {},
   "source": [
    "## TUBES Struktur Data Kelompok 11 RC"
   ]
  },
  {
   "cell_type": "markdown",
   "id": "25bf459b-aeb3-42e2-99e9-8e2bbcbcce8d",
   "metadata": {},
   "source": [
    "Anggota :\n",
    "1. Rafi Fadhlillah 121450143\n",
    "2. Jelli Kurnilia 121450083\n",
    "3. Tsabbit Nasrulloh 121450017\n",
    "4. Putri Durrotul Shopia 121450116\n",
    "5. Nazwa Nabilla 121450122"
   ]
  },
  {
   "cell_type": "code",
   "execution_count": 1,
   "id": "fe7835e4-4ca8-48ff-939d-8819f6cd557e",
   "metadata": {},
   "outputs": [],
   "source": [
    "import pandas as pd"
   ]
  },
  {
   "cell_type": "code",
   "execution_count": 2,
   "id": "ee2700fb-758f-40e6-889f-e49658faf5d0",
   "metadata": {},
   "outputs": [
    {
     "data": {
      "text/html": [
       "<div>\n",
       "<style scoped>\n",
       "    .dataframe tbody tr th:only-of-type {\n",
       "        vertical-align: middle;\n",
       "    }\n",
       "\n",
       "    .dataframe tbody tr th {\n",
       "        vertical-align: top;\n",
       "    }\n",
       "\n",
       "    .dataframe thead th {\n",
       "        text-align: right;\n",
       "    }\n",
       "</style>\n",
       "<table border=\"1\" class=\"dataframe\">\n",
       "  <thead>\n",
       "    <tr style=\"text-align: right;\">\n",
       "      <th></th>\n",
       "      <th>Year</th>\n",
       "      <th>Hole Area</th>\n",
       "      <th>Minimum Ozone</th>\n",
       "    </tr>\n",
       "  </thead>\n",
       "  <tbody>\n",
       "    <tr>\n",
       "      <th>0</th>\n",
       "      <td>1979</td>\n",
       "      <td>0.1</td>\n",
       "      <td>225.0</td>\n",
       "    </tr>\n",
       "    <tr>\n",
       "      <th>1</th>\n",
       "      <td>1980</td>\n",
       "      <td>1.4</td>\n",
       "      <td>203.0</td>\n",
       "    </tr>\n",
       "    <tr>\n",
       "      <th>2</th>\n",
       "      <td>1981</td>\n",
       "      <td>0.6</td>\n",
       "      <td>209.5</td>\n",
       "    </tr>\n",
       "    <tr>\n",
       "      <th>3</th>\n",
       "      <td>1982</td>\n",
       "      <td>4.8</td>\n",
       "      <td>185.0</td>\n",
       "    </tr>\n",
       "    <tr>\n",
       "      <th>4</th>\n",
       "      <td>1983</td>\n",
       "      <td>7.9</td>\n",
       "      <td>172.9</td>\n",
       "    </tr>\n",
       "  </tbody>\n",
       "</table>\n",
       "</div>"
      ],
      "text/plain": [
       "   Year  Hole Area  Minimum Ozone\n",
       "0  1979        0.1          225.0\n",
       "1  1980        1.4          203.0\n",
       "2  1981        0.6          209.5\n",
       "3  1982        4.8          185.0\n",
       "4  1983        7.9          172.9"
      ]
     },
     "execution_count": 2,
     "metadata": {},
     "output_type": "execute_result"
    }
   ],
   "source": [
    "df = pd.read_csv(\"C:/Users/rafif/Downloads/OzoneHole_Data.csv\")\n",
    "df.head()"
   ]
  },
  {
   "cell_type": "markdown",
   "id": "9d7c9a80-937c-41c7-b3e0-9bdb9d55b2cf",
   "metadata": {},
   "source": [
    "## Cek tipe data dan data null"
   ]
  },
  {
   "cell_type": "code",
   "execution_count": 3,
   "id": "970c0435-c44f-4c08-ae5c-450e8df45fcb",
   "metadata": {},
   "outputs": [
    {
     "name": "stdout",
     "output_type": "stream",
     "text": [
      "<class 'pandas.core.frame.DataFrame'>\n",
      "RangeIndex: 42 entries, 0 to 41\n",
      "Data columns (total 3 columns):\n",
      " #   Column         Non-Null Count  Dtype  \n",
      "---  ------         --------------  -----  \n",
      " 0   Year           42 non-null     int64  \n",
      " 1   Hole Area      42 non-null     float64\n",
      " 2   Minimum Ozone  42 non-null     float64\n",
      "dtypes: float64(2), int64(1)\n",
      "memory usage: 1.1 KB\n"
     ]
    }
   ],
   "source": [
    "df.info()"
   ]
  },
  {
   "cell_type": "markdown",
   "id": "7048b7d5-eaf8-4413-ab9e-2b5044a96ae7",
   "metadata": {},
   "source": [
    "## Cek apakah ada data NaN"
   ]
  },
  {
   "cell_type": "code",
   "execution_count": 4,
   "id": "507e0432-f2bb-4e65-9e23-894a5ad490c7",
   "metadata": {},
   "outputs": [
    {
     "data": {
      "text/plain": [
       "Year             0\n",
       "Hole Area        0\n",
       "Minimum Ozone    0\n",
       "dtype: int64"
      ]
     },
     "execution_count": 4,
     "metadata": {},
     "output_type": "execute_result"
    }
   ],
   "source": [
    "df.isna().sum()"
   ]
  },
  {
   "cell_type": "markdown",
   "id": "622ab984-66b6-4733-bf91-54d210122f75",
   "metadata": {},
   "source": [
    "## Mengubah ke list"
   ]
  },
  {
   "cell_type": "code",
   "execution_count": 5,
   "id": "95c48aa6-bf57-41e6-b312-aa27518cfc96",
   "metadata": {},
   "outputs": [
    {
     "name": "stdout",
     "output_type": "stream",
     "text": [
      "1979, 1980, 1981, 1982, 1983, 1984, 1985, 1986, 1987, 1988, 1989, 1990, 1991, 1992, 1993, 1994, 1996, 1997, 1998, 1999, 2000, 2001, 2002, 2003, 2004, 2005, 2006, 2007, 2008, 2009, 2010, 2011, 2012, 2013, 2014, 2015, 2016, 2017, 2018, 2019, 2020, 2021, "
     ]
    }
   ],
   "source": [
    "year = df['Year'].tolist()\n",
    "for i in year:\n",
    "    print(i, end=\", \")"
   ]
  },
  {
   "cell_type": "code",
   "execution_count": 6,
   "id": "e7fa668a-b263-4f78-8833-b43496f65c19",
   "metadata": {},
   "outputs": [
    {
     "data": {
      "text/plain": [
       "list"
      ]
     },
     "execution_count": 6,
     "metadata": {},
     "output_type": "execute_result"
    }
   ],
   "source": [
    "type(year)"
   ]
  },
  {
   "cell_type": "code",
   "execution_count": 7,
   "id": "82274475-7514-4dbd-a72d-19485c83d04c",
   "metadata": {},
   "outputs": [
    {
     "name": "stdout",
     "output_type": "stream",
     "text": [
      "0.1, 1.4, 0.6, 4.8, 7.9, 10.1, 14.2, 11.3, 19.3, 10.0, 18.7, 19.2, 18.8, 22.3, 24.2, 23.6, 22.8, 22.1, 25.9, 23.3, 24.8, 25.0, 12.0, 25.8, 19.5, 24.4, 26.6, 22.0, 25.2, 22.0, 19.4, 24.7, 17.8, 21.0, 20.9, 25.6, 20.7, 17.4, 22.9, 9.3, 23.5, 23.3, "
     ]
    }
   ],
   "source": [
    "hole_area = df['Hole Area'].tolist()\n",
    "for i in hole_area:\n",
    "    print(i, end=\", \")"
   ]
  },
  {
   "cell_type": "code",
   "execution_count": 8,
   "id": "994c4acf-b696-4956-bd33-fd0411b6a6b7",
   "metadata": {},
   "outputs": [
    {
     "data": {
      "text/plain": [
       "list"
      ]
     },
     "execution_count": 8,
     "metadata": {},
     "output_type": "execute_result"
    }
   ],
   "source": [
    "type(hole_area)"
   ]
  },
  {
   "cell_type": "code",
   "execution_count": 9,
   "id": "7c352013-8229-437c-ab6a-1b98a0841523",
   "metadata": {},
   "outputs": [
    {
     "name": "stdout",
     "output_type": "stream",
     "text": [
      "225.0, 203.0, 209.5, 185.0, 172.9, 163.6, 146.5, 157.8, 123.0, 171.0, 127.0, 124.2, 119.0, 114.3, 112.6, 92.3, 108.8, 108.8, 98.8, 102.9, 98.7, 100.9, 157.4, 108.7, 123.5, 113.8, 98.4, 116.2, 114.0, 107.9, 128.5, 106.5, 139.3, 132.7, 128.6, 117.2, 123.2, 141.8, 111.8, 167.0, 102.6, 103.3, "
     ]
    }
   ],
   "source": [
    "ozone = df['Minimum Ozone'].tolist()\n",
    "for i in ozone:\n",
    "    print(i, end=\", \")"
   ]
  },
  {
   "cell_type": "code",
   "execution_count": 10,
   "id": "d39ffbbd-c2c9-4640-8f51-32e97489358c",
   "metadata": {},
   "outputs": [
    {
     "data": {
      "text/plain": [
       "list"
      ]
     },
     "execution_count": 10,
     "metadata": {},
     "output_type": "execute_result"
    }
   ],
   "source": [
    "type(ozone)"
   ]
  },
  {
   "cell_type": "markdown",
   "id": "195f468e-940e-4b50-8f01-4c8b76b3e3f4",
   "metadata": {},
   "source": [
    "## Queue OOP"
   ]
  },
  {
   "cell_type": "code",
   "execution_count": 11,
   "id": "9fce0a96-450a-4bb1-ad0b-741ef1c85d31",
   "metadata": {},
   "outputs": [],
   "source": [
    "class Queue:\n",
    "    def __init__(self):\n",
    "        self._data = []\n",
    "        self._size = 0\n",
    "    \n",
    "    def __len__(self):\n",
    "        return self._size\n",
    "    \n",
    "    def isempty(self):\n",
    "        return self._size == 0\n",
    "    \n",
    "    @property\n",
    "    def view(self):\n",
    "        return self._data\n",
    "    \n",
    "    def first(self):\n",
    "        return self._data[0]\n",
    "    \n",
    "    def last(self):\n",
    "        return self._data[-1]\n",
    "    \n",
    "    def first(self):\n",
    "        return self._data[0]\n",
    "    \n",
    "    def enqueue(self, item):\n",
    "        self._size += 1\n",
    "        self._data.append(item)\n",
    "        \n",
    "    def dequeue(self):\n",
    "        if self.isempty():\n",
    "            raise Exception('queue kosong')\n",
    "            \n",
    "        else :\n",
    "            self._size -= 1\n",
    "            return self._data.pop(0)"
   ]
  },
  {
   "cell_type": "code",
   "execution_count": 12,
   "id": "335db22d-5665-48ea-bf2e-b06db3efba4f",
   "metadata": {},
   "outputs": [
    {
     "name": "stdout",
     "output_type": "stream",
     "text": [
      "225.0\n",
      "203.0\n",
      "209.5\n",
      "185.0\n",
      "172.9\n",
      "163.6\n",
      "146.5\n",
      "157.8\n",
      "123.0\n",
      "171.0\n",
      "127.0\n",
      "124.2\n",
      "119.0\n",
      "114.3\n",
      "112.6\n",
      "92.3\n",
      "108.8\n",
      "108.8\n",
      "98.8\n",
      "102.9\n",
      "98.7\n",
      "100.9\n",
      "157.4\n",
      "108.7\n",
      "123.5\n",
      "113.8\n",
      "98.4\n",
      "116.2\n",
      "114.0\n",
      "107.9\n",
      "128.5\n",
      "106.5\n",
      "139.3\n",
      "132.7\n",
      "128.6\n",
      "117.2\n",
      "123.2\n",
      "141.8\n",
      "111.8\n",
      "167.0\n",
      "102.6\n",
      "103.3\n"
     ]
    }
   ],
   "source": [
    "if __name__ == \"__main__\":\n",
    "    q = Queue()\n",
    "    for i in ozone:\n",
    "        q.enqueue(i)\n",
    "        print(i)"
   ]
  },
  {
   "cell_type": "markdown",
   "id": "b1cd7ffa-11d1-428e-b1e7-dc88a24e999e",
   "metadata": {},
   "source": [
    "## Cek data Sebelum di dequeue"
   ]
  },
  {
   "cell_type": "code",
   "execution_count": 13,
   "id": "d34108a0-f456-44e8-9e78-aa7460bd08f9",
   "metadata": {},
   "outputs": [
    {
     "data": {
      "text/plain": [
       "42"
      ]
     },
     "execution_count": 13,
     "metadata": {},
     "output_type": "execute_result"
    }
   ],
   "source": [
    "len(q)"
   ]
  },
  {
   "cell_type": "code",
   "execution_count": 14,
   "id": "fc5cd399-d073-4063-978f-7a0da9d5a4b6",
   "metadata": {},
   "outputs": [
    {
     "data": {
      "text/html": [
       "<div>\n",
       "<style scoped>\n",
       "    .dataframe tbody tr th:only-of-type {\n",
       "        vertical-align: middle;\n",
       "    }\n",
       "\n",
       "    .dataframe tbody tr th {\n",
       "        vertical-align: top;\n",
       "    }\n",
       "\n",
       "    .dataframe thead th {\n",
       "        text-align: right;\n",
       "    }\n",
       "</style>\n",
       "<table border=\"1\" class=\"dataframe\">\n",
       "  <thead>\n",
       "    <tr style=\"text-align: right;\">\n",
       "      <th></th>\n",
       "      <th>Year</th>\n",
       "      <th>Hole Area</th>\n",
       "      <th>Minimum Ozone</th>\n",
       "    </tr>\n",
       "  </thead>\n",
       "  <tbody>\n",
       "    <tr>\n",
       "      <th>37</th>\n",
       "      <td>2017</td>\n",
       "      <td>17.4</td>\n",
       "      <td>141.8</td>\n",
       "    </tr>\n",
       "    <tr>\n",
       "      <th>38</th>\n",
       "      <td>2018</td>\n",
       "      <td>22.9</td>\n",
       "      <td>111.8</td>\n",
       "    </tr>\n",
       "    <tr>\n",
       "      <th>39</th>\n",
       "      <td>2019</td>\n",
       "      <td>9.3</td>\n",
       "      <td>167.0</td>\n",
       "    </tr>\n",
       "    <tr>\n",
       "      <th>40</th>\n",
       "      <td>2020</td>\n",
       "      <td>23.5</td>\n",
       "      <td>102.6</td>\n",
       "    </tr>\n",
       "    <tr>\n",
       "      <th>41</th>\n",
       "      <td>2021</td>\n",
       "      <td>23.3</td>\n",
       "      <td>103.3</td>\n",
       "    </tr>\n",
       "  </tbody>\n",
       "</table>\n",
       "</div>"
      ],
      "text/plain": [
       "    Year  Hole Area  Minimum Ozone\n",
       "37  2017       17.4          141.8\n",
       "38  2018       22.9          111.8\n",
       "39  2019        9.3          167.0\n",
       "40  2020       23.5          102.6\n",
       "41  2021       23.3          103.3"
      ]
     },
     "execution_count": 14,
     "metadata": {},
     "output_type": "execute_result"
    }
   ],
   "source": [
    "df.tail()"
   ]
  },
  {
   "cell_type": "code",
   "execution_count": 15,
   "id": "f9817b12-6b5a-4e8b-87e2-f4d8e434d802",
   "metadata": {},
   "outputs": [
    {
     "data": {
      "text/plain": [
       "225.0"
      ]
     },
     "execution_count": 15,
     "metadata": {},
     "output_type": "execute_result"
    }
   ],
   "source": [
    "q.first()"
   ]
  },
  {
   "cell_type": "code",
   "execution_count": 16,
   "id": "1ac1198b-2894-4d8d-8c43-5e956b474d97",
   "metadata": {},
   "outputs": [
    {
     "data": {
      "text/plain": [
       "103.3"
      ]
     },
     "execution_count": 16,
     "metadata": {},
     "output_type": "execute_result"
    }
   ],
   "source": [
    "q.last()"
   ]
  },
  {
   "cell_type": "markdown",
   "id": "859741e4-3844-43d4-af95-62ef897d01a4",
   "metadata": {},
   "source": [
    "## Dequeue(hapus data) "
   ]
  },
  {
   "cell_type": "code",
   "execution_count": 17,
   "id": "1e990865-2452-45ac-8c2c-83aa5d17e6b0",
   "metadata": {},
   "outputs": [
    {
     "data": {
      "text/plain": [
       "225.0"
      ]
     },
     "execution_count": 17,
     "metadata": {},
     "output_type": "execute_result"
    }
   ],
   "source": [
    "q.dequeue()"
   ]
  },
  {
   "cell_type": "markdown",
   "id": "a8fc94e3-82db-482a-a768-2fb7e353ba2a",
   "metadata": {},
   "source": [
    "## Setelah di dequeue"
   ]
  },
  {
   "cell_type": "code",
   "execution_count": 18,
   "id": "999c2c8c-e090-472a-8b44-0ffe2f04e794",
   "metadata": {},
   "outputs": [
    {
     "data": {
      "text/plain": [
       "41"
      ]
     },
     "execution_count": 18,
     "metadata": {},
     "output_type": "execute_result"
    }
   ],
   "source": [
    "len(q)"
   ]
  },
  {
   "cell_type": "code",
   "execution_count": 19,
   "id": "fea3fa80-f283-4e66-8aeb-81749d96a54f",
   "metadata": {},
   "outputs": [
    {
     "data": {
      "text/plain": [
       "[203.0,\n",
       " 209.5,\n",
       " 185.0,\n",
       " 172.9,\n",
       " 163.6,\n",
       " 146.5,\n",
       " 157.8,\n",
       " 123.0,\n",
       " 171.0,\n",
       " 127.0,\n",
       " 124.2,\n",
       " 119.0,\n",
       " 114.3,\n",
       " 112.6,\n",
       " 92.3,\n",
       " 108.8,\n",
       " 108.8,\n",
       " 98.8,\n",
       " 102.9,\n",
       " 98.7,\n",
       " 100.9,\n",
       " 157.4,\n",
       " 108.7,\n",
       " 123.5,\n",
       " 113.8,\n",
       " 98.4,\n",
       " 116.2,\n",
       " 114.0,\n",
       " 107.9,\n",
       " 128.5,\n",
       " 106.5,\n",
       " 139.3,\n",
       " 132.7,\n",
       " 128.6,\n",
       " 117.2,\n",
       " 123.2,\n",
       " 141.8,\n",
       " 111.8,\n",
       " 167.0,\n",
       " 102.6,\n",
       " 103.3]"
      ]
     },
     "execution_count": 19,
     "metadata": {},
     "output_type": "execute_result"
    }
   ],
   "source": [
    "q.view"
   ]
  },
  {
   "cell_type": "code",
   "execution_count": 20,
   "id": "c9a1266c-e2bd-40a2-bd14-13f194b57024",
   "metadata": {},
   "outputs": [
    {
     "data": {
      "text/plain": [
       "203.0"
      ]
     },
     "execution_count": 20,
     "metadata": {},
     "output_type": "execute_result"
    }
   ],
   "source": [
    "q.first()"
   ]
  },
  {
   "cell_type": "code",
   "execution_count": 21,
   "id": "6169590b-d291-48fc-bd21-443256d53bc8",
   "metadata": {},
   "outputs": [
    {
     "data": {
      "text/plain": [
       "103.3"
      ]
     },
     "execution_count": 21,
     "metadata": {},
     "output_type": "execute_result"
    }
   ],
   "source": [
    "q.last()"
   ]
  },
  {
   "cell_type": "markdown",
   "id": "5440566e-8aeb-46da-ab13-d5e2c844eff5",
   "metadata": {},
   "source": [
    "## Enqueue(Tambah Data)"
   ]
  },
  {
   "cell_type": "code",
   "execution_count": 22,
   "id": "d5736c29-33d3-4fc5-88ff-b6a32a0fef75",
   "metadata": {},
   "outputs": [
    {
     "data": {
      "text/plain": [
       "[203.0,\n",
       " 209.5,\n",
       " 185.0,\n",
       " 172.9,\n",
       " 163.6,\n",
       " 146.5,\n",
       " 157.8,\n",
       " 123.0,\n",
       " 171.0,\n",
       " 127.0,\n",
       " 124.2,\n",
       " 119.0,\n",
       " 114.3,\n",
       " 112.6,\n",
       " 92.3,\n",
       " 108.8,\n",
       " 108.8,\n",
       " 98.8,\n",
       " 102.9,\n",
       " 98.7,\n",
       " 100.9,\n",
       " 157.4,\n",
       " 108.7,\n",
       " 123.5,\n",
       " 113.8,\n",
       " 98.4,\n",
       " 116.2,\n",
       " 114.0,\n",
       " 107.9,\n",
       " 128.5,\n",
       " 106.5,\n",
       " 139.3,\n",
       " 132.7,\n",
       " 128.6,\n",
       " 117.2,\n",
       " 123.2,\n",
       " 141.8,\n",
       " 111.8,\n",
       " 167.0,\n",
       " 102.6,\n",
       " 103.3,\n",
       " 123.45]"
      ]
     },
     "execution_count": 22,
     "metadata": {},
     "output_type": "execute_result"
    }
   ],
   "source": [
    "q.enqueue(123.45)\n",
    "q.view"
   ]
  }
 ],
 "metadata": {
  "kernelspec": {
   "display_name": "Python 3 (ipykernel)",
   "language": "python",
   "name": "python3"
  },
  "language_info": {
   "codemirror_mode": {
    "name": "ipython",
    "version": 3
   },
   "file_extension": ".py",
   "mimetype": "text/x-python",
   "name": "python",
   "nbconvert_exporter": "python",
   "pygments_lexer": "ipython3",
   "version": "3.10.4"
  }
 },
 "nbformat": 4,
 "nbformat_minor": 5
}
