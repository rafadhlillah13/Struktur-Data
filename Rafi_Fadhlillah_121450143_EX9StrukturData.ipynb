{
  "nbformat": 4,
  "nbformat_minor": 0,
  "metadata": {
    "colab": {
      "provenance": []
    },
    "kernelspec": {
      "name": "python3",
      "display_name": "Python 3"
    },
    "language_info": {
      "name": "python"
    }
  },
  "cells": [
    {
      "cell_type": "markdown",
      "source": [
        "# Exercise 9 Struktur Data"
      ],
      "metadata": {
        "id": "dZPqy9AFKBaC"
      }
    },
    {
      "cell_type": "markdown",
      "source": [
        "Nama : Rafi Fadhlillah \\\\\n",
        "NIM : 121450143 "
      ],
      "metadata": {
        "id": "FQLCP6m9p21o"
      }
    },
    {
      "cell_type": "markdown",
      "source": [
        "## Introduction Section\n",
        "1. Jelaskan definisi object dalam Paradigma Object-Oriented!\n",
        "2. Jelaskan tiga tujuan dalam Paradigma Object-Oriented!\n",
        "3. Jelaskan tiga prinsip dalam Paradigma Object-Oriented!\n",
        "4. Sebutkan contoh design pattern dalam Paradigma Object-Oriented!"
      ],
      "metadata": {
        "id": "qH4klMKxKF5R"
      }
    },
    {
      "cell_type": "markdown",
      "source": [
        "##Jawaban\n",
        "1. Konsep dasar OOP adalah mengkombinasikan data dan fungsi untuk mengakses data menjadi sebuah kesatuan unit yang dikenal dengan nama objek. Objek adalah struktur data yang terdiri dari bidang data dan metode bersama dengan interaksi mereka untuk merancang aplikasi dan program komputer. Objek memiliki variabel-variabel (dinamakan atribut) dan kumpulan dari fungsi-fungsi (dinamakan perilaku). Object adalah instance dari class. Jika class secara umum mepresentasikan (template) sebuah object, sebuah instance adalah representasi nyata dari class itu sendiri. Contoh : Dari class Kendaraan kita dapat membuat object Mobil, Motor, Sepeda, dll.\n",
        "\n",
        "2. Modularitas untuk pemecahan masalah yang lebih mudah, Penggunaan kembali kode melalui warisan, Fleksibilitas melalui polimorfisme, Pemecahan masalah yang efektif.\n",
        "\n",
        "3. Encapsulation => konsep tentang pengikatan data atau metode berbeda yang \n",
        "disatukan atau “dikapsulkan” menjadi satu unit data. \\\\\n",
        "Abstraction => Prinsip ini sendiri berarti memungkinkam seorang developer memerintahkan suatu fungsi, tanpa harus mengetahui bagaimana fungsi tersebut bekerja. \\\\\n",
        "Polymorphism => konsep di mana suatu objek yang berbeda-beda dapat diakses melalui interface yang sama.\n",
        "\n",
        "4. Creational Pattern (Pola pembuatan), Behavioral Pattern (Pola perilaku), Structural Pattern (Pola struktural)\n",
        "\n"
      ],
      "metadata": {
        "id": "EEY-b807KaZI"
      }
    },
    {
      "cell_type": "markdown",
      "source": [
        "## Class and Object\n",
        "1. Jelaskan definisi Class!\n",
        "2. Jelaskan perbedaan Attribute dengan Method!\n",
        "3. Jelaskan apa itu instansiasi Object!\n",
        "4. Jelaskan apa itu identifier!\n"
      ],
      "metadata": {
        "id": "Em3DU6E-KJ-k"
      }
    },
    {
      "cell_type": "markdown",
      "source": [
        "##Jawaban\n",
        "1. Class adalah Cetakan(blueprint) yang berisi serangkaian perintah untuk membangun jenis objek tertentu. Class juga bisa diartikan sebagai sekelompok objek yang memiliki sifat umum. Contoh dari Class pada kehidupan nyata adalah kendaraan, manusia, hewan, dan lain sebagainya.\n",
        "2. Attribute merupakan karakteristik dari suatu class. Attribut ini berupa suatu variable yang terletak tepat di dalam class. Method merupakan sebutan untuk behavioral/function. Method selalu memiliku kurung lengkung atau “()”, kurung lengkung tersebut bisa juga disemati suatu variable atau parameter.\n",
        "3. Instansiasi adalah pembuatan instance/objek dari suatu kelas. Metode – Metode adalah fungsi yang didefinisikan di dalam suatu kelas. Objek – Objek adalah instansiasi atau perwujudan dari sebuah kelas.\n",
        "4. Identifier (pengenal) pada python. Identifier (pengenal) merupakan nama yang diberikan untuk mengidentifikasi seperti variabel, fungsi, kelas dan lain sebagainya. Fungsi dari identifier sendiri adalah untuk membedakan antara entitas yang satu dengan entitas lainnya."
      ],
      "metadata": {
        "id": "14jiW9_IKa-Y"
      }
    },
    {
      "cell_type": "markdown",
      "source": [
        "## Implementing Class\n",
        "Implementasikan kelas diagram \"Kendaraan\" berikut ke dalam Python!\n",
        "\n",
        "   Class Kendaraan :\n",
        "   \n",
        "    - string nomorPlat\n",
        "    - string merk\n",
        "    - string jenis\n",
        "    - string warna\n",
        "    - int tanggalBeli\n",
        "    - int bulanBeli\n",
        "    - int tahunBeli\n",
        "    - double berat\n",
        "    - double harga\n",
        "    - showTanggalPembelian()"
      ],
      "metadata": {
        "id": "XMXY8fkQKMYS"
      }
    },
    {
      "cell_type": "code",
      "source": [
        "class Kendaraan:\n",
        "  def __init__ (self, nomorPlat, merk, jenis, warna, tanggalBeli, bulanBeli, tahunBeli, berat, harga, ):\n",
        "    self.nomorPlat = nomorPlat\n",
        "    self.merk  = merk \n",
        "    self.jenis = jenis\n",
        "    self.warna = warna\n",
        "    self.tanggalBeli = tanggalBeli  \n",
        "    self.bulanBeli = bulanBeli  \n",
        "    self.tahunBeli = tahunBeli\n",
        "    self.berat = berat\n",
        "    self.harga = harga\n",
        "  \n",
        "  def showTanggalPembelian(self):\n",
        "    print(f\"{self.nomorPlat}, {self.merk}, {self.warna}, {self.tanggalBeli}/{self.bulanBeli}/{self.tahunBeli}, {self.berat}, 'harga : {self.harga}'\")\n",
        "\n",
        "# Main Program \n",
        "data_beli = Kendaraan(\"BG 3628 HAA\", \"Honda\", \"Matic\", \"Putih\", 6, 8, 2017, 10.15, 13500000.00)\n",
        "data_beli.showTanggalPembelian()"
      ],
      "metadata": {
        "colab": {
          "base_uri": "https://localhost:8080/"
        },
        "id": "ddibtbM1UMU3",
        "outputId": "06ecd428-d19b-4546-a2fb-6eb73d44d7a3"
      },
      "execution_count": 1,
      "outputs": [
        {
          "output_type": "stream",
          "name": "stdout",
          "text": [
            "BG 3628 HAA, Honda, Putih, 6/8/2017, 10.15, 'harga : 13500000.0'\n"
          ]
        }
      ]
    },
    {
      "cell_type": "markdown",
      "source": [
        "## Main OOP Concept\n",
        "1. Jelaskan konsep encapsulation dalam Paradigma Object-Oriented!\n",
        "2. Jelaskan konsep inheritance dalam Paradigma Object-Oriented!\n",
        "3. Jelaskan perbedaan public method dan private method dalam encapsulation!\n",
        "4. Jelaskan perbedaan superclass dan subclass dalam inheritance!\n"
      ],
      "metadata": {
        "id": "NHUVJrHBKSc1"
      }
    },
    {
      "cell_type": "markdown",
      "source": [
        "##Jawaban\n",
        "1. Encapsulation pada OOP adalah konsep tentang pengikatan data atau metode berbeda yang disatukan atau “dikapsulkan” menjadi satu unit data. Encapsulation dapat memudahkan dalam pembacaan kode karena informasi yang disajikan tidak perlu dibaca secara rinci dan sudah merupakan satu kesatuan.\n",
        "2. Inheritance adalah sifat penurunan, yaitu menurunkan sifat yang dimiliki kelas utama (parent) class kepada kelas yang diturunkan (childc class). Inheritance dalam konsep OOP adalah kemampuan untuk membentuk class baru yang memiliki fungsi turunan atau mirip dengan fungsi yang ada sebelumnya. Konsep ini menggunakan sistem hierarki atau bertingkat. Maksudnya, semakin jauh turunan atau subclass-nya, maka semakin sedikit kemiripan fungsinya.\n",
        "3. Public berarti bahwa pengaksesan suatu variabel instan atau method dapat dilakukan diluar kelas. Private berarti bahwa pengaksesan suatu variabel instan atau method hanya dapat dilakukan didalam kelas itu saja, tidak bisa diakses diluar kelas.\n",
        "4. Superclass digunakan untuk menunjukkan hirarki class yang berarti class dasar dari subclass/class anak. Subclass Subclass adalah class anak atau turunan secara hirarki dari superclass.\n"
      ],
      "metadata": {
        "id": "NGQGHEvdLik0"
      }
    },
    {
      "cell_type": "markdown",
      "source": [
        "## Programming Exercise\n",
        "- Buatlah class diagram dari code python berikut ini:\n",
        "\n",
        "```python\n",
        "class Koordinat:\n",
        "\tdef __init__(self,x,y):\n",
        "\t\tself.z = 0\n",
        "\t\tself.x = x\n",
        "\t\tself.y = y\n",
        "\tdef set_x(self,x):\n",
        "\t\tself.x = x\n",
        "\tdef increment_x(self):\n",
        "\t\tself.x+=1\n",
        "\tdef __str__(self):\n",
        "\t\treturn f\"x : {self.x} , y:{self.y} , z:{self.z}\"\n",
        "```\n",
        "\n",
        "- Implementasikan class diagram berikut menjadi program python!\n",
        "\n",
        "```mermaid\n",
        "classDiagram\n",
        "class Koordinat{\n",
        "\tint x\n",
        "\tint y\n",
        "\tint z\n",
        "\tsetx()\n",
        "\tsety()\n",
        "\tsetz()\n",
        "}\n",
        "class Vector{\n",
        "\tKoordinat koordinat\n",
        "\tsetKoordinat()\n",
        "\tgetKoordinat()\n",
        "\tnorm()\n",
        "}\n",
        "```\n",
        "\n",
        "- fungsi norm() adalah fungsi untuk menghitung norm dari sebuah vector yaitu\n",
        "norm = $\\sqrt{x^2 + y^2 + z^2}$ . Buatlah fungsi untuk menghitung norm dari vector berdasarkan class yang telah anda buat! \n",
        "\n",
        "- Euclidian Distance adalah jarak antara 2 vector dan didefinisikan sebagai \n",
        "$$d = \\sqrt{ (x_1 - x_2)^2 + (y_1 - y_2)^2 + (x_1 - x_2)^2 } $$\n",
        "buatlah program untuk menghitung euclidian distance antara 2 vector berdasarkan class yang telah anda buat!\n",
        "\n",
        "- Perhatikan tabel berikut\n",
        "\n",
        "| Vector | x   | y   | z   | kelas |\n",
        "| ------ | --- | --- | --- | ----- |\n",
        "| A      | 0   | 1   | 1   | 0     |\n",
        "| B      | 2   | 2   | 2   | 1     |\n",
        "| C      | 1.5 | 1.2 | 1.5 | 1     |\n",
        "| D      | 10  | 9   | 8   | 0     |\n",
        "| E      | 5   | 5   | 5   | 0     |\n",
        "| F      | 8   | 8   | 8   | 0     |\n",
        "| G      | 6   | 6   | 1   | 0     |\n",
        "| H      | 3   | 3   | 3   | ?     |\n",
        "\n",
        "Salah satu metode dalam data science untuk melakukan klasifikasi adalah dengan menggunakan k-nearest neighbor, dimana cara menentukan label kelas adalah dengan cara melihat tetangga dengan euclidian distance terdekat. Tentukan kelas dari vector H dengan cara:\n",
        "- Tentukan 3 tetangga paling dekat dari H \n",
        "- dari 3 tetangga tersebut, pilih kelas yang paling banyak muncul\n",
        "- Jadikan kelas yang paling banyak muncul tersebut sebagai kelas dari vector H\n",
        "\n",
        "Implementasikan algoritma tersebut menggunakan program python dengan paradigma object-oriented programming yang telah anda pelajari!\n"
      ],
      "metadata": {
        "id": "7Jl_MRqRKTfG"
      }
    },
    {
      "cell_type": "code",
      "source": [
        "from math import sqrt\n",
        "import statistics\n",
        "class Vektor:\n",
        "  def __init__(self, vektor, x, y, z, nama_vektor):\n",
        "    self.vektor = vektor\n",
        "    self.x = x\n",
        "    self.y = y\n",
        "    self.z = z\n",
        "    self.nama_vektor = nama_vektor\n",
        "    self.kls_h = 0\n",
        "  def jarak(self):\n",
        "    vkt = []\n",
        "    jarak = []\n",
        "    # Jarak tetangga\n",
        "    for i in self.vektor:\n",
        "        komponen_vektor = list(self.vektor[i].values())\n",
        "        def dekat(komponen_vektor):\n",
        "            distance = 0\n",
        "            for i in komponen_vektor:\n",
        "                distance = sqrt((self.x-komponen_vektor[1])**2 + (self.y-komponen_vektor[2])**2 + (self.z-komponen_vektor[3])**2)\n",
        "            return distance\n",
        "        vkt = vkt + [self.vektor[i]]\n",
        "        jarak = jarak + [round(dekat(komponen_vektor), 2)]\n",
        "        print(f\"Jarak vektor {self.vektor[i]['vektor']} dengan vektor H adalah sebesar {round(dekat(komponen_vektor), 2)}\")\n",
        "    val_sorted = sorted(jarak)\n",
        "    tetangga = {}\n",
        "    for i in range(len(jarak)):\n",
        "        tetangga[jarak[i]] = vkt[i]    \n",
        "    print(\"Urutannya adalah:\")\n",
        "    for j in range(len(val_sorted)): \n",
        "        print(f\"Jarak vektor {tetangga[val_sorted[j]]['vektor']} dengan vektor H adalah sebesar {val_sorted[j]}\")\n",
        "    print(\"3 Tetangga terdekat:\")\n",
        "    kls = []\n",
        "    for k in range(3):\n",
        "        print(f\"Vektor {tetangga[val_sorted[k]]['vektor']} dengan kelas {tetangga[val_sorted[k]]['kelas']} pada jarak {val_sorted[k]} dengan vektor H\")\n",
        "        kls = kls + [tetangga[val_sorted[k]]['kelas']]\n",
        "    self.kls_h = statistics.mode(kls)\n",
        "    print(\"Kelas yang paling banyak muncul adalah = \", self.kls_h)\n",
        "    print(\"Kelas dari vektor H = \", self.kls_h)\n",
        "  def hasil(self):\n",
        "    return {'vektor': self.nama_vektor, 'x' : self.x, 'y' : self.y, 'z': self.z, 'kelas': self.kls_h}"
      ],
      "metadata": {
        "id": "x7lFBB8MKYva"
      },
      "execution_count": 2,
      "outputs": []
    },
    {
      "cell_type": "code",
      "source": [
        "tabel = {\n",
        "    \"vektor1\" : {'vektor': 'A', 'x' : 0, 'y' : 1, 'z': 1, 'kelas': 0 },\n",
        "    \"vektor2\" : {'vektor': 'B', 'x' : 2, 'y' : 2, 'z': 2, 'kelas': 1},\n",
        "    \"vektor3\" : {'vektor': 'C', 'x' : 1.5, 'y' : 1.2, 'z': 1, 'kelas': 1},\n",
        "    \"vektor4\" : {'vektor': 'D', 'x' : 10, 'y' : 9, 'z': 0, 'kelas': 0},\n",
        "    \"vektor5\" : {'vektor': 'E', 'x' : 5, 'y' : 5, 'z': 5, 'kelas': 0},\n",
        "    \"vektor6\" : {'vektor': 'F', 'x' : 8, 'y' : 8, 'z': 0, 'kelas': 0},\n",
        "    \"vektor7\" : {'vektor': 'G', 'x' : 6, 'y' : 6, 'z': 0, 'kelas': 0},\n",
        "}\n",
        "for key in tabel:\n",
        "    print(tabel[key])\n",
        "print(\"\\n\")\n",
        "data = Vektor(tabel, 3, 3, 3, \"H\")\n",
        "data.jarak()\n",
        "print(data.hasil())\n",
        "tabel[\"vektor8\"] = data.hasil()\n",
        "print(\"\\n\")\n",
        "for key in tabel:\n",
        "    print(tabel[key])"
      ],
      "metadata": {
        "colab": {
          "base_uri": "https://localhost:8080/"
        },
        "id": "S5SRzUnPWzQN",
        "outputId": "bf74d534-e71f-4ce2-b8f8-b0e6bd46f24f"
      },
      "execution_count": 3,
      "outputs": [
        {
          "output_type": "stream",
          "name": "stdout",
          "text": [
            "{'vektor': 'A', 'x': 0, 'y': 1, 'z': 1, 'kelas': 0}\n",
            "{'vektor': 'B', 'x': 2, 'y': 2, 'z': 2, 'kelas': 1}\n",
            "{'vektor': 'C', 'x': 1.5, 'y': 1.2, 'z': 1, 'kelas': 1}\n",
            "{'vektor': 'D', 'x': 10, 'y': 9, 'z': 0, 'kelas': 0}\n",
            "{'vektor': 'E', 'x': 5, 'y': 5, 'z': 5, 'kelas': 0}\n",
            "{'vektor': 'F', 'x': 8, 'y': 8, 'z': 0, 'kelas': 0}\n",
            "{'vektor': 'G', 'x': 6, 'y': 6, 'z': 0, 'kelas': 0}\n",
            "\n",
            "\n",
            "Jarak vektor A dengan vektor H adalah sebesar 4.12\n",
            "Jarak vektor B dengan vektor H adalah sebesar 1.73\n",
            "Jarak vektor C dengan vektor H adalah sebesar 3.08\n",
            "Jarak vektor D dengan vektor H adalah sebesar 9.7\n",
            "Jarak vektor E dengan vektor H adalah sebesar 3.46\n",
            "Jarak vektor F dengan vektor H adalah sebesar 7.68\n",
            "Jarak vektor G dengan vektor H adalah sebesar 5.2\n",
            "Urutannya adalah:\n",
            "Jarak vektor B dengan vektor H adalah sebesar 1.73\n",
            "Jarak vektor C dengan vektor H adalah sebesar 3.08\n",
            "Jarak vektor E dengan vektor H adalah sebesar 3.46\n",
            "Jarak vektor A dengan vektor H adalah sebesar 4.12\n",
            "Jarak vektor G dengan vektor H adalah sebesar 5.2\n",
            "Jarak vektor F dengan vektor H adalah sebesar 7.68\n",
            "Jarak vektor D dengan vektor H adalah sebesar 9.7\n",
            "3 Tetangga terdekat:\n",
            "Vektor B dengan kelas 1 pada jarak 1.73 dengan vektor H\n",
            "Vektor C dengan kelas 1 pada jarak 3.08 dengan vektor H\n",
            "Vektor E dengan kelas 0 pada jarak 3.46 dengan vektor H\n",
            "Kelas yang paling banyak muncul adalah =  1\n",
            "Kelas dari vektor H =  1\n",
            "{'vektor': 'H', 'x': 3, 'y': 3, 'z': 3, 'kelas': 1}\n",
            "\n",
            "\n",
            "{'vektor': 'A', 'x': 0, 'y': 1, 'z': 1, 'kelas': 0}\n",
            "{'vektor': 'B', 'x': 2, 'y': 2, 'z': 2, 'kelas': 1}\n",
            "{'vektor': 'C', 'x': 1.5, 'y': 1.2, 'z': 1, 'kelas': 1}\n",
            "{'vektor': 'D', 'x': 10, 'y': 9, 'z': 0, 'kelas': 0}\n",
            "{'vektor': 'E', 'x': 5, 'y': 5, 'z': 5, 'kelas': 0}\n",
            "{'vektor': 'F', 'x': 8, 'y': 8, 'z': 0, 'kelas': 0}\n",
            "{'vektor': 'G', 'x': 6, 'y': 6, 'z': 0, 'kelas': 0}\n",
            "{'vektor': 'H', 'x': 3, 'y': 3, 'z': 3, 'kelas': 1}\n"
          ]
        }
      ]
    }
  ]
}