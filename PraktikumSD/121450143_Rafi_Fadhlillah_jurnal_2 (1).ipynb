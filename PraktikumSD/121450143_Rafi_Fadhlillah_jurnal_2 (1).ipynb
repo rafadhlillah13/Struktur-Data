{
  "nbformat": 4,
  "nbformat_minor": 0,
  "metadata": {
    "colab": {
      "provenance": []
    },
    "kernelspec": {
      "name": "python3",
      "display_name": "Python 3"
    },
    "language_info": {
      "name": "python"
    }
  },
  "cells": [
    {
      "cell_type": "markdown",
      "source": [
        "##1. Buatlah sebuah fungsi yang berguna untuk memindahkan element element dari sebuah stack ke stack lain. Artinya element terakhir di stack A akan dipindahkan dan menjadi element pertama di stack B"
      ],
      "metadata": {
        "id": "AdZENzTgpMEz"
      }
    },
    {
      "cell_type": "code",
      "execution_count": null,
      "metadata": {
        "id": "EvhifSu8gpm1"
      },
      "outputs": [],
      "source": [
        "class Stack:\n",
        "  \n",
        "  def __init__(self):\n",
        "    self._data = []\n",
        "  \n",
        "  def __len__(self):\n",
        "    return len(self._data) \n",
        "  \n",
        "  def isempty(self):\n",
        "    return len(self._data) == 0\n",
        "  \n",
        "  @property\n",
        "  def view(self):\n",
        "    return self._data\n",
        "  \n",
        "  def push(self, item):\n",
        "    self._data.append(item)\n",
        "  \n",
        "  def pop(self):\n",
        "    if self.isempty():\n",
        "      raise Exception(\"stack kosong\")\n",
        "    return self._data.pop()\n",
        "\n",
        "  def top(self):\n",
        "    if self.isempty():\n",
        "      raise Exception(\"stack kosong\")\n",
        "    return self._data[-1]\n"
      ]
    },
    {
      "cell_type": "code",
      "source": [
        "def tranfer(S,T):\n",
        "  while not S.isempty():\n",
        "    T.push(S.pop())\n",
        "\n",
        "  return(S, T)"
      ],
      "metadata": {
        "id": "WO0kSNxrkJ6k"
      },
      "execution_count": null,
      "outputs": []
    },
    {
      "cell_type": "code",
      "source": [
        "S, T = Stack(), Stack()\n",
        "\n",
        "for i in range(10):\n",
        "  S.push(i)\n",
        "\n",
        "\n",
        "print(\"kondisi s di stack adalah\", [S.view])\n",
        "\n",
        "tranfer(S, T)\n",
        "\n",
        "print(\"kondisi t di stack adalah\", [T.view])"
      ],
      "metadata": {
        "colab": {
          "base_uri": "https://localhost:8080/"
        },
        "id": "A5dHYl9nky6m",
        "outputId": "d5ddc807-5d79-44b5-b96c-5b60c59c0e8b"
      },
      "execution_count": null,
      "outputs": [
        {
          "output_type": "stream",
          "name": "stdout",
          "text": [
            "kondisi s di stack adalah [[0, 1, 2, 3, 4, 5, 6, 7, 8, 9]]\n",
            "kondisi t di stack adalah [[9, 8, 7, 6, 5, 4, 3, 2, 1, 0]]\n"
          ]
        }
      ]
    },
    {
      "cell_type": "markdown",
      "source": [
        "##2. Buatlah sebuah fungsi rekursif yang berguna untuk menghapus semua elemen dari stack"
      ],
      "metadata": {
        "id": "xHT9NZ6cpURf"
      }
    },
    {
      "cell_type": "code",
      "source": [
        "class Stack_recursive:\n",
        "    def __init__(self):\n",
        "        self._data = []\n",
        "        \n",
        "    def __len__(self):\n",
        "        return len(self._data)\n",
        "    \n",
        "    def isempty(self):\n",
        "        return len(self._data) == 0\n",
        "    \n",
        "    @property\n",
        "    def view(self):\n",
        "        return self._data\n",
        "    \n",
        "    def push(self, item):\n",
        "        self._data.append(item)\n",
        "        \n",
        "    def pop(self):\n",
        "        if self.isempty():\n",
        "            raise Exception('Stack kosong')\n",
        "        return self._data.pop()\n",
        "    \n",
        "    def top(self):\n",
        "        if self.isempty():\n",
        "            raise Exception('Stack kosong')\n",
        "        return self._data[-1]\n",
        "    \n",
        "    def full_pop(self):\n",
        "        ans = []\n",
        "        while not self.isempty():\n",
        "            ans.append(self.pop())\n",
        "        return ans\n",
        "    \n",
        "    def pop_recrs(self):\n",
        "        if self.view:\n",
        "            self.pop()\n",
        "            return self.pop_recrs()\n"
      ],
      "metadata": {
        "id": "tO8ue3C7svDV"
      },
      "execution_count": null,
      "outputs": []
    },
    {
      "cell_type": "code",
      "source": [
        "S = Stack_recursive()\n",
        "\n",
        "for i in range(20):\n",
        "    S.push(i)\n",
        "    \n",
        "S.view\n"
      ],
      "metadata": {
        "colab": {
          "base_uri": "https://localhost:8080/"
        },
        "id": "K8mxXL4Hsw-i",
        "outputId": "325192f4-9d67-4fd5-c20c-0cd92d6264bf"
      },
      "execution_count": null,
      "outputs": [
        {
          "output_type": "execute_result",
          "data": {
            "text/plain": [
              "[0, 1, 2, 3, 4, 5, 6, 7, 8, 9, 10, 11, 12, 13, 14, 15, 16, 17, 18, 19]"
            ]
          },
          "metadata": {},
          "execution_count": 5
        }
      ]
    },
    {
      "cell_type": "code",
      "source": [
        "S.pop_recrs()\n",
        "S.view"
      ],
      "metadata": {
        "colab": {
          "base_uri": "https://localhost:8080/"
        },
        "id": "NgC_595tsyiB",
        "outputId": "f523e912-a9f2-42e6-861c-9e2633a83a54"
      },
      "execution_count": null,
      "outputs": [
        {
          "output_type": "execute_result",
          "data": {
            "text/plain": [
              "[]"
            ]
          },
          "metadata": {},
          "execution_count": 6
        }
      ]
    },
    {
      "cell_type": "markdown",
      "source": [
        "##3. Modifikasi kelas stack sehingga dapat mereverse elemen"
      ],
      "metadata": {
        "id": "lPKlftiquMfL"
      }
    },
    {
      "cell_type": "code",
      "source": [
        "class Stack_reverse:\n",
        "  \n",
        "  def __init__(self):\n",
        "    self._data = []\n",
        "  \n",
        "  def __len__(self):\n",
        "    return len(self._data) \n",
        "  \n",
        "  def isempty(self):\n",
        "    return len(self._data) == 0\n",
        "  \n",
        "  @property\n",
        "  def view(self):\n",
        "    return self._data\n",
        "  \n",
        "  def push(self, item):\n",
        "    self._data.append(item)\n",
        "  \n",
        "  def pop(self):\n",
        "    if self.isempty():\n",
        "      raise Exception(\"stack kosong\")\n",
        "    return self._data.pop()\n",
        "\n",
        "  def top(self):\n",
        "    if self.isempty():\n",
        "      raise Exception(\"stack kosong\")\n",
        "    return self._data[-1]\n",
        "  \n",
        "  def reverse(self):\n",
        "    ans = []\n",
        "    while not self.isempty():\n",
        "      ans.append(self.pop())\n",
        "    return ans \n"
      ],
      "metadata": {
        "id": "MD1s2m4mufft"
      },
      "execution_count": null,
      "outputs": []
    },
    {
      "cell_type": "code",
      "source": [
        "a = Stack_reverse()\n",
        "for i in range(10):\n",
        "  a.push(i)\n",
        "a.view"
      ],
      "metadata": {
        "colab": {
          "base_uri": "https://localhost:8080/"
        },
        "id": "hK_yXxrYvT41",
        "outputId": "2e93a289-79c0-4b84-a6a2-0160c0e8489f"
      },
      "execution_count": null,
      "outputs": [
        {
          "output_type": "execute_result",
          "data": {
            "text/plain": [
              "[0, 1, 2, 3, 4, 5, 6, 7, 8, 9]"
            ]
          },
          "metadata": {},
          "execution_count": 8
        }
      ]
    },
    {
      "cell_type": "code",
      "source": [
        "a.reverse()"
      ],
      "metadata": {
        "colab": {
          "base_uri": "https://localhost:8080/"
        },
        "id": "xmJICbiEvlh-",
        "outputId": "5d7d7fad-a683-4c4e-8135-bee957b7cf8e"
      },
      "execution_count": null,
      "outputs": [
        {
          "output_type": "execute_result",
          "data": {
            "text/plain": [
              "[9, 8, 7, 6, 5, 4, 3, 2, 1, 0]"
            ]
          },
          "metadata": {},
          "execution_count": 9
        }
      ]
    },
    {
      "cell_type": "markdown",
      "source": [
        "##4. Buatlah fungsi Deque yang berisi first, last, add_first, add_last, delete_first, delete_last. Lalu lakukan seperti tabel dibawah dan cocokan hasilnya"
      ],
      "metadata": {
        "id": "GTftjDmbuVEd"
      }
    },
    {
      "cell_type": "code",
      "source": [
        "class Dequeu:\n",
        "\n",
        "  def __init__(self):\n",
        "    self._data = []\n",
        "    self._size = 0\n",
        "\n",
        "  def __len__(self):\n",
        "    return self._size\n",
        "\n",
        "  @property\n",
        "  def view(self):\n",
        "    return self._data\n",
        "\n",
        "  def first(self):\n",
        "    return self._data[0]\n",
        "\n",
        "  def add_first(self, item):\n",
        "    self._data.append(item)\n",
        "    self._data.insert(0, self._data.pop())\n",
        "    self._size += 1\n",
        "\n",
        "  def last(self):\n",
        "    return self._data[-1]\n",
        "\n",
        "  def add_last(self, item):\n",
        "    self._data.append(item)\n",
        "    self._size += 1\n",
        "\n",
        "  def isempty(self):\n",
        "    return self._size == 0\n",
        "\n",
        "  def  delete_first(self):\n",
        "    if self.isempty():\n",
        "      return Exception(\"queue kosong\")\n",
        "    else:\n",
        "      self._size -= 1\n",
        "      return self._data.pop(0)\n",
        "    \n",
        "  def delete_last(self):\n",
        "    if self.isempty():\n",
        "      raise Exception(\"queue kosong\")\n",
        "\n",
        "    else:\n",
        "      self._size -= 1\n",
        "      return self._data.pop()\n",
        "\n"
      ],
      "metadata": {
        "id": "CmM2Qkgty0wy"
      },
      "execution_count": null,
      "outputs": []
    },
    {
      "cell_type": "code",
      "source": [
        "D = Dequeu()\n",
        "\n",
        "D.add_last(5)"
      ],
      "metadata": {
        "id": "AdMv3eT51wtx"
      },
      "execution_count": null,
      "outputs": []
    },
    {
      "cell_type": "code",
      "source": [
        "D.add_first(3)"
      ],
      "metadata": {
        "id": "IBQbe0jH3Vwm"
      },
      "execution_count": null,
      "outputs": []
    },
    {
      "cell_type": "code",
      "source": [
        "D.add_first(7)"
      ],
      "metadata": {
        "id": "TeRnplYX3Zlb"
      },
      "execution_count": null,
      "outputs": []
    },
    {
      "cell_type": "code",
      "source": [
        "print(D.first())"
      ],
      "metadata": {
        "colab": {
          "base_uri": "https://localhost:8080/"
        },
        "id": "45ldiIhG3fu5",
        "outputId": "b6db66f2-abfd-4650-cd23-32980f973623"
      },
      "execution_count": null,
      "outputs": [
        {
          "output_type": "stream",
          "name": "stdout",
          "text": [
            "7\n"
          ]
        }
      ]
    },
    {
      "cell_type": "code",
      "source": [
        "D.last()"
      ],
      "metadata": {
        "colab": {
          "base_uri": "https://localhost:8080/"
        },
        "id": "KCaiBZbE3zfZ",
        "outputId": "e78f688c-b0bc-4512-f39c-2ac6adbec703"
      },
      "execution_count": null,
      "outputs": [
        {
          "output_type": "execute_result",
          "data": {
            "text/plain": [
              "5"
            ]
          },
          "metadata": {},
          "execution_count": 15
        }
      ]
    },
    {
      "cell_type": "code",
      "source": [
        "print(D.delete_last())"
      ],
      "metadata": {
        "colab": {
          "base_uri": "https://localhost:8080/"
        },
        "id": "rwpAdlNk3kNG",
        "outputId": "e0393ac1-3984-4d38-9593-7bff4c78e497"
      },
      "execution_count": null,
      "outputs": [
        {
          "output_type": "stream",
          "name": "stdout",
          "text": [
            "5\n"
          ]
        }
      ]
    },
    {
      "cell_type": "code",
      "source": [
        "len(D)"
      ],
      "metadata": {
        "colab": {
          "base_uri": "https://localhost:8080/"
        },
        "id": "H3bM8zsz4uBO",
        "outputId": "a7f34c60-44ca-4038-c21f-aa9da5f0ed6e"
      },
      "execution_count": null,
      "outputs": [
        {
          "output_type": "execute_result",
          "data": {
            "text/plain": [
              "2"
            ]
          },
          "metadata": {},
          "execution_count": 17
        }
      ]
    },
    {
      "cell_type": "code",
      "source": [
        "D.delete_last()"
      ],
      "metadata": {
        "colab": {
          "base_uri": "https://localhost:8080/"
        },
        "id": "0zjpohup4yUi",
        "outputId": "83e16b03-08a0-4e36-e44f-d36574f24d06"
      },
      "execution_count": null,
      "outputs": [
        {
          "output_type": "execute_result",
          "data": {
            "text/plain": [
              "3"
            ]
          },
          "metadata": {},
          "execution_count": 18
        }
      ]
    },
    {
      "cell_type": "code",
      "source": [
        "D.delete_last()"
      ],
      "metadata": {
        "colab": {
          "base_uri": "https://localhost:8080/"
        },
        "id": "Jrx8Igcq6CGe",
        "outputId": "2dce4bd2-2b8c-46a0-fd1e-b6c3c9f51477"
      },
      "execution_count": null,
      "outputs": [
        {
          "output_type": "execute_result",
          "data": {
            "text/plain": [
              "7"
            ]
          },
          "metadata": {},
          "execution_count": 19
        }
      ]
    },
    {
      "cell_type": "code",
      "source": [
        "D.add_first(8)"
      ],
      "metadata": {
        "id": "lVN5oH-n6TIn"
      },
      "execution_count": null,
      "outputs": []
    },
    {
      "cell_type": "code",
      "source": [
        "D.isempty()"
      ],
      "metadata": {
        "colab": {
          "base_uri": "https://localhost:8080/"
        },
        "id": "Bfu3rqg76Ysb",
        "outputId": "3e9831cf-d36e-4846-baab-38829e140632"
      },
      "execution_count": null,
      "outputs": [
        {
          "output_type": "execute_result",
          "data": {
            "text/plain": [
              "False"
            ]
          },
          "metadata": {},
          "execution_count": 21
        }
      ]
    },
    {
      "cell_type": "code",
      "source": [
        "D.last()"
      ],
      "metadata": {
        "colab": {
          "base_uri": "https://localhost:8080/"
        },
        "id": "5fpVvy-06cZg",
        "outputId": "a1164035-02ba-418e-9b3d-ceec861d1054"
      },
      "execution_count": null,
      "outputs": [
        {
          "output_type": "execute_result",
          "data": {
            "text/plain": [
              "8"
            ]
          },
          "metadata": {},
          "execution_count": 22
        }
      ]
    },
    {
      "cell_type": "code",
      "source": [
        "D.view"
      ],
      "metadata": {
        "colab": {
          "base_uri": "https://localhost:8080/"
        },
        "id": "j0f7a52H6fth",
        "outputId": "3276f6ef-80d2-43b3-9866-f4b77177113f"
      },
      "execution_count": null,
      "outputs": [
        {
          "output_type": "execute_result",
          "data": {
            "text/plain": [
              "[8]"
            ]
          },
          "metadata": {},
          "execution_count": 23
        }
      ]
    },
    {
      "cell_type": "markdown",
      "source": [
        "##5. Buatlah fungsi yang dapat mengecek pasangan tanda kurung menggunakan stack ADT. Jelaskan proses kerjanya"
      ],
      "metadata": {
        "id": "9FiZdT1r-Wms"
      }
    },
    {
      "cell_type": "code",
      "source": [
        "def cek_tanda_kurung(tanda_kurung):\n",
        "  item = {'(': ')' }\n",
        "  stack = []\n",
        "  for c in '((())':\n",
        "    if c == '(':\n",
        "      stack.append(c)\n",
        "\n",
        "    elif stack and c == item[stack[-1]]:\n",
        "      stack.pop()\n",
        "\n",
        "    else:\n",
        "      return False\n",
        "    return len(stack) == 0"
      ],
      "metadata": {
        "id": "zmO2hjXa-ZJB"
      },
      "execution_count": null,
      "outputs": []
    },
    {
      "cell_type": "markdown",
      "source": [
        "Penjelasan : Pertama program akan mengecek tanda kurung ('(' atau ')'). Jika ada maka fungsi akan mengeluarkan hasil False dan jika tidak ada maka fungsi akan menambahkan tanda kurung"
      ],
      "metadata": {
        "id": "jfL0GglaPza1"
      }
    },
    {
      "cell_type": "markdown",
      "source": [
        "##6. Implementasikan stack ADT menggunakan queue sebagai variabel instance"
      ],
      "metadata": {
        "id": "56Gvb5Mv8ggr"
      }
    },
    {
      "cell_type": "code",
      "source": [
        "class Queue:\n",
        "  def __init__(self):\n",
        "    self._data = []\n",
        "    self._size = 0\n",
        "\n",
        "  def __len__(self):\n",
        "    return self._size\n",
        "\n",
        "  def isempty(self):\n",
        "    return self._size == 0\n",
        "\n",
        "  def first(self):\n",
        "    return self._data[0]\n",
        "\n",
        "  def enqueu(self, item):\n",
        "    self._size += 1\n",
        "    self._data.append(item)\n",
        "\n",
        "  def dequeue(self):\n",
        "    if self.isempty():\n",
        "      raise Exception('queue kosong')\n",
        "    else :\n",
        "      self._size -= 1\n",
        "      return self._data.pop(0)"
      ],
      "metadata": {
        "id": "p2dZVZZD8gEC"
      },
      "execution_count": null,
      "outputs": []
    },
    {
      "cell_type": "code",
      "source": [
        "#stack ADT menggunakan queue\n",
        "\n",
        "class Stackwithqueue():\n",
        "  def __init__(self):\n",
        "    self._data = Queue()\n",
        "    self._size = 0\n",
        "\n",
        "  def __len__(self):\n",
        "    return self._size\n",
        "\n",
        "  def isempty(self):\n",
        "    return self._data.isempty()\n",
        "\n",
        "  def push(self, item):\n",
        "    self._data.enqueu(item)\n",
        "    self._size += 1\n",
        "\n",
        "    for i in range(self._size-1):\n",
        "      self._data.enqueu(self._data.dequeue())\n",
        "\n",
        "  def pop(self):\n",
        "    if self.isempty():\n",
        "      raise Exception('stack kosong')\n",
        "\n",
        "    self._size -= 1\n",
        "    return self._data.dequeue()\n",
        "\n",
        "  def top(self):\n",
        "    if self.isempty():\n",
        "      raise Exception('stack kosong')\n",
        "\n",
        "    return self._data.first()"
      ],
      "metadata": {
        "id": "_EiGcgNO_Rqz"
      },
      "execution_count": null,
      "outputs": []
    },
    {
      "cell_type": "code",
      "source": [
        "SQ = Stackwithqueue()\n",
        "\n",
        "for i in range(10):\n",
        "  SQ.push(i)\n",
        "\n",
        "while not SQ.isempty():\n",
        "  print(SQ.top(), SQ.pop())"
      ],
      "metadata": {
        "colab": {
          "base_uri": "https://localhost:8080/"
        },
        "id": "kXGhcXAJBad4",
        "outputId": "34a94479-bc4b-4a7d-cd43-b61fdac57d86"
      },
      "execution_count": null,
      "outputs": [
        {
          "output_type": "stream",
          "name": "stdout",
          "text": [
            "9 9\n",
            "8 8\n",
            "7 7\n",
            "6 6\n",
            "5 5\n",
            "4 4\n",
            "3 3\n",
            "2 2\n",
            "1 1\n",
            "0 0\n"
          ]
        }
      ]
    }
  ]
}