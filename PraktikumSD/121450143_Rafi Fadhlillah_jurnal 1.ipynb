{
 "cells": [
  {
   "cell_type": "markdown",
   "metadata": {},
   "source": [
    "**Rafi Fadhlillah**\n",
    "**121450143**"
   ]
  },
  {
   "cell_type": "markdown",
   "metadata": {},
   "source": [
    "**Nomor 1**"
   ]
  },
  {
   "cell_type": "code",
   "execution_count": 3,
   "metadata": {},
   "outputs": [
    {
     "data": {
      "text/plain": [
       "False"
      ]
     },
     "execution_count": 3,
     "metadata": {},
     "output_type": "execute_result"
    }
   ],
   "source": [
    "def isMultiple (n,m):\n",
    "    if n%m==0:\n",
    "        return True\n",
    "    else:\n",
    "        return False\n",
    "        \n",
    "isMultiple(7,2)"
   ]
  },
  {
   "cell_type": "code",
   "execution_count": 5,
   "metadata": {},
   "outputs": [
    {
     "data": {
      "text/plain": [
       "False"
      ]
     },
     "execution_count": 5,
     "metadata": {},
     "output_type": "execute_result"
    }
   ],
   "source": [
    "isMultiple = lambda n,m : n%m == 0\n",
    "isMultiple(7,2)"
   ]
  },
  {
   "cell_type": "markdown",
   "metadata": {},
   "source": [
    "**Nomor 2**"
   ]
  },
  {
   "cell_type": "code",
   "execution_count": 8,
   "metadata": {},
   "outputs": [
    {
     "data": {
      "text/plain": [
       "35"
      ]
     },
     "execution_count": 8,
     "metadata": {},
     "output_type": "execute_result"
    }
   ],
   "source": [
    "def sumodd (n):\n",
    "    sum = 0\n",
    "    k = 1\n",
    "    while k < n:\n",
    "        sum = sum + k**2\n",
    "        k += 2 # k = k+2\n",
    "    return sum\n",
    "sumodd(7)"
   ]
  },
  {
   "cell_type": "markdown",
   "metadata": {},
   "source": [
    "**Nomor 3**"
   ]
  },
  {
   "cell_type": "code",
   "execution_count": 10,
   "metadata": {},
   "outputs": [
    {
     "data": {
      "text/plain": [
       "4.242640687119285"
      ]
     },
     "execution_count": 10,
     "metadata": {},
     "output_type": "execute_result"
    }
   ],
   "source": [
    "def euclidean (p,q):\n",
    "    num = 0\n",
    "    for i in range (len(p)):\n",
    "        num += (p[i]-q[i])**2\n",
    "    return num**0.5\n",
    "\n",
    "euclidean([1,2],[4,5])"
   ]
  },
  {
   "cell_type": "markdown",
   "metadata": {},
   "source": [
    "**Nomor 4**"
   ]
  },
  {
   "cell_type": "code",
   "execution_count": 11,
   "metadata": {},
   "outputs": [
    {
     "name": "stdout",
     "output_type": "stream",
     "text": [
      "Bilangan terkecil : 2\n",
      "Bilangan terbesar : 90\n"
     ]
    }
   ],
   "source": [
    "def MinMax (a) :\n",
    "    for i in range (len(a)-1):\n",
    "        for j in range (i+1, len(a)):\n",
    "            if a[i] >a [j]:\n",
    "                temp = a [i]\n",
    "                a[i] = a[j]\n",
    "                a[j] = temp\n",
    "    print (\"Bilangan terkecil :\",a[0])\n",
    "    print (\"Bilangan terbesar :\",a[-1])\n",
    "\n",
    "angka = [11,25,90,54,78,2]\n",
    "\n",
    "MinMax(angka)"
   ]
  },
  {
   "cell_type": "markdown",
   "metadata": {},
   "source": [
    "**Nomor 5**"
   ]
  },
  {
   "cell_type": "code",
   "execution_count": 12,
   "metadata": {},
   "outputs": [
    {
     "name": "stdout",
     "output_type": "stream",
     "text": [
      "[10, 9, 8, 7, 6, 5, 4, 3, 2, 1]\n"
     ]
    }
   ],
   "source": [
    "def reverseArray (a):\n",
    "    if len(a)%2 == 0:\n",
    "        mid = (len(a))//2\n",
    "        for i in range (0,mid):\n",
    "            temp = a[i]\n",
    "            a[i] = a[-i-1]\n",
    "            a[-i-1] = temp\n",
    "    else:\n",
    "        mid = len(a)//2\n",
    "        for i in range (mid):\n",
    "            temp = a[i]\n",
    "            a[i] = a[-i-1]\n",
    "            a[-i-1] = temp\n",
    "    \n",
    "    return a\n",
    "\n",
    "print (reverseArray([1,2,3,4,5,6,7,8,9,10]))"
   ]
  },
  {
   "cell_type": "markdown",
   "metadata": {},
   "source": [
    "**Nomor 6**"
   ]
  },
  {
   "cell_type": "code",
   "execution_count": 14,
   "metadata": {},
   "outputs": [
    {
     "data": {
      "text/plain": [
       "'hallo world'"
      ]
     },
     "execution_count": 14,
     "metadata": {},
     "output_type": "execute_result"
    }
   ],
   "source": [
    "class newbie :\n",
    "    def __init__(self):\n",
    "        self.halo = 'hallo world'\n",
    "    def display(self):\n",
    "        return self.halo\n",
    "\n",
    "obj = newbie()\n",
    "obj.display()\n"
   ]
  },
  {
   "cell_type": "markdown",
   "metadata": {},
   "source": [
    "**Nomor 7**"
   ]
  },
  {
   "cell_type": "code",
   "execution_count": 25,
   "metadata": {},
   "outputs": [
    {
     "name": "stdout",
     "output_type": "stream",
     "text": [
      "angka pertama : 2\n",
      "angka kedua : 5\n",
      "hasil : 7\n"
     ]
    }
   ],
   "source": [
    "class aritmatika : \n",
    "\n",
    "    def __init__(self, a,b):\n",
    "        self.a = a\n",
    "        self.b = b\n",
    "\n",
    "    def tambah(self):\n",
    "        self.answer = self.a + self.b\n",
    "    def kurang(self):\n",
    "        self.answer = self.a - self.b\n",
    "    def kali(self):\n",
    "        self.answer = self.a * self.b\n",
    "    def bagi(self):\n",
    "        self.answer = self.a / self.b\n",
    "\n",
    "    def display(self):\n",
    "        print(\"angka pertama : \" + str(self.a))\n",
    "        print(\"angka kedua : \" + str(self.b))\n",
    "        print(\"hasil : \" + str(self.answer))\n",
    "\n",
    "obj = aritmatika(2,5)\n",
    "\n",
    "obj.tambah()\n",
    "obj.display()\n",
    "   "
   ]
  },
  {
   "cell_type": "markdown",
   "metadata": {},
   "source": [
    "**Nomor 8**"
   ]
  },
  {
   "cell_type": "code",
   "execution_count": 26,
   "metadata": {},
   "outputs": [
    {
     "name": "stdout",
     "output_type": "stream",
     "text": [
      "Daftar Menu Kantin : \n",
      "Mie Ayam : Rp.15000\n",
      "Nasi Goreng : Rp.10000\n",
      "Ayam Bakar : Rp.30000\n",
      "Gurame Bakar : Rp.50000\n"
     ]
    }
   ],
   "source": [
    "class MenuKantin :\n",
    "    def __init__(self,nama,harga):\n",
    "        self.nama = nama\n",
    "        self.harga = harga\n",
    "        return\n",
    "menu1 = MenuKantin(\"Mie Ayam\", 15000)\n",
    "menu2 = MenuKantin(\"Nasi Goreng\", 10000)\n",
    "menu3 = MenuKantin(\"Ayam Bakar\", 30000)\n",
    "menu4 = MenuKantin(\"Gurame Bakar\", 50000)\n",
    "\n",
    "pilihan_menu = [menu1, menu2, menu3, menu4]\n",
    "\n",
    "print('Daftar Menu Kantin : ')\n",
    "for mn in pilihan_menu:\n",
    "    t = '{} : Rp.{}'.format(mn.nama, mn.harga)\n",
    "    print(t)"
   ]
  },
  {
   "cell_type": "markdown",
   "metadata": {},
   "source": [
    "**Nomor 9**"
   ]
  },
  {
   "cell_type": "code",
   "execution_count": 21,
   "metadata": {},
   "outputs": [
    {
     "name": "stdout",
     "output_type": "stream",
     "text": [
      "Rafi Pada mata kuliah Struktur Data mendapatkan nilai akhir = 72.0, grade =B\n"
     ]
    }
   ],
   "source": [
    "class NilaiMataKuliah:\n",
    "    def __init__(self,nama,mata_kuliah,nilai_hadir,nilai_project,nilai_uts,nilai_uas):\n",
    "        self.nama = nama\n",
    "        self.mata_kuliah = mata_kuliah\n",
    "        self.nilai_hadir = nilai_hadir\n",
    "        self.nilai_project = nilai_project\n",
    "        self.nilai_uts = nilai_uts\n",
    "        self.nilai_uas = nilai_uas\n",
    "    \n",
    "    def hitung_nilai_akhir(self):\n",
    "        bobot_hadir = 0.1\n",
    "        bobot_project= 0.3\n",
    "        bobot_uts = 0.3\n",
    "        bobot_uas = 0.3\n",
    "        nilai_akhir = bobot_hadir * self.nilai_hadir + bobot_project * self.nilai_project + bobot_uts * self.nilai_uts + bobot_uas * self.nilai_uas\n",
    "        return nilai_akhir\n",
    "\n",
    "\n",
    "    def grade_nilai(self):\n",
    "        nilai_akhir = self.hitung_nilai_akhir()\n",
    "        if nilai_akhir >= 85:\n",
    "            grade= 'A'\n",
    "        elif nilai_akhir >=70:\n",
    "            grade= 'B'\n",
    "        elif nilai_akhir >=50:\n",
    "            grade= 'C'\n",
    "        elif nilai_akhir >=40:\n",
    "            grade= 'D'\n",
    "        else:\n",
    "            grade= 'E'\n",
    "        return grade\n",
    "\n",
    "obj = NilaiMataKuliah('Rafi','Struktur Data',90,80,70,60)\n",
    "nilai_akhir = obj.hitung_nilai_akhir()\n",
    "grade= obj.grade_nilai()\n",
    "\n",
    "print('{} Pada mata kuliah {} mendapatkan nilai akhir = {}, grade ={}'.format(obj.nama, obj.mata_kuliah, nilai_akhir, grade))"
   ]
  }
 ],
 "metadata": {
  "kernelspec": {
   "display_name": "Python 3.10.4 64-bit",
   "language": "python",
   "name": "python3"
  },
  "language_info": {
   "codemirror_mode": {
    "name": "ipython",
    "version": 3
   },
   "file_extension": ".py",
   "mimetype": "text/x-python",
   "name": "python",
   "nbconvert_exporter": "python",
   "pygments_lexer": "ipython3",
   "version": "3.10.4"
  },
  "orig_nbformat": 4,
  "vscode": {
   "interpreter": {
    "hash": "7ff291596393bdbe51c39e9b71d2a364c4c9645ea33158d3bc65ed92a72075ea"
   }
  }
 },
 "nbformat": 4,
 "nbformat_minor": 2
}
