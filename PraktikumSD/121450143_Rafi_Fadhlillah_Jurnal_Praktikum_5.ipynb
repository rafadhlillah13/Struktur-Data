{
  "nbformat": 4,
  "nbformat_minor": 0,
  "metadata": {
    "colab": {
      "provenance": []
    },
    "kernelspec": {
      "name": "python3",
      "display_name": "Python 3"
    },
    "language_info": {
      "name": "python"
    }
  },
  "cells": [
    {
      "cell_type": "markdown",
      "source": [
        "##**TUGAS PRAKTIKUM 5**\n",
        "Nama : Rafi Fadhlillah<br>\n",
        "NIM : 121450143"
      ],
      "metadata": {
        "id": "JdBkeThUUzoI"
      }
    },
    {
      "cell_type": "markdown",
      "source": [
        "#LATIHAN"
      ],
      "metadata": {
        "id": "BTo-MFuOU4cZ"
      }
    },
    {
      "cell_type": "markdown",
      "source": [
        "Perhatikan gambar di bawah ini: "
      ],
      "metadata": {
        "id": "ukWt7HaIU5GD"
      }
    },
    {
      "cell_type": "markdown",
      "source": [
        "![image.png](data:image/png;base64,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)"
      ],
      "metadata": {
        "id": "MfLP2TOnU8Gd"
      }
    },
    {
      "cell_type": "markdown",
      "source": [
        "Implementasikan algoritma Prim's, algoritma Kruskal, dan algoritma Djikstra dalam pencarian rute minimumnya. Lalu lakukan analisis perbandingan dari ketiga hasil tersebut."
      ],
      "metadata": {
        "id": "Pz0ko5wNU-UZ"
      }
    },
    {
      "cell_type": "markdown",
      "source": [
        "##Cara 1 Algoritma Djikstra"
      ],
      "metadata": {
        "id": "Nr5nf97GVDc9"
      }
    },
    {
      "cell_type": "code",
      "source": [
        "infinity = float('infinity')\n",
        "mulai = '6'\n",
        "berhenti = '3'\n",
        "\n",
        "lokasi = {\n",
        "    '1':{'6': 10,'2': 28},\n",
        "    '2':{'1': 28,'3': 16,'7': 14},\n",
        "    '3':{'2': 16,'4': 12},\n",
        "    '4':{'3': 12,'5': 22,'7': 18},\n",
        "    '5':{'4': 22,'6': 25,'7': 24},\n",
        "    '6':{'1': 10,'5': 25},\n",
        "    '7':{'2': 14,'4': 18,'5': 24}\n",
        "    \n",
        "}"
      ],
      "metadata": {
        "id": "gBk52oHeVKIy"
      },
      "execution_count": null,
      "outputs": []
    },
    {
      "cell_type": "code",
      "source": [
        "distance = {}   # distance = jarak yang perlu ditempuh\n",
        "city= {}    # city = data lokasi\n",
        "for node in lokasi: # looping data pendefinisian lokasi\n",
        "  distance[node] = infinity # inisialisasi dist dengan nilai infinity (anggapannya node ini belum dikunjungi)\n",
        "  city[node] = {} # inisialisasi parent tanpa node{}\n",
        "\n",
        "distance[mulai] = 0 # atur jarak pertama dengan nilai 0\n",
        "\n",
        "def find_cheapest_node(distance,not_checked):\n",
        "  lowest_dist = infinity\n",
        "  cheapest_node = ''\n",
        "  for node in distance:\n",
        "    if node in not_checked and distance[node] <= lowest_dist:\n",
        "      lowest_dist = distance[node]\n",
        "      cheapest_node = node\n",
        "  return cheapest_node"
      ],
      "metadata": {
        "id": "Ze66tgLFVLpn"
      },
      "execution_count": null,
      "outputs": []
    },
    {
      "cell_type": "code",
      "source": [
        "not_checked = [node for node in distance]\n",
        "node = find_cheapest_node(distance, not_checked)\n",
        "\n",
        "while not_checked:\n",
        "  dist = distance[node]\n",
        "  child_dist = lokasi[node]\n",
        "  for c in child_dist:\n",
        "    if distance[c] > dist + child_dist[c]:\n",
        "      distance[c] = dist + child_dist[c]\n",
        "      city[c] = node\n",
        "  \n",
        "  not_checked.pop(not_checked.index(node))\n",
        "  node = find_cheapest_node(distance, not_checked)\n",
        "\n",
        "print(' ')\n",
        "print(f'Jarak tempuh terpendek dari {mulai} ke {berhenti} sejauh {distance[berhenti]} km!')\n",
        "\n",
        "if distance[berhenti] < infinity:\n",
        "  rute = [berhenti]\n",
        "  \n",
        "  i = 0\n",
        "  while mulai not in rute:\n",
        "    rute.append(city[rute[i]])\n",
        "    i += 1\n",
        "  \n",
        "  barrier = '>'\n",
        "  print(barrier*50)\n",
        "  print(f'Rutenya adalah {rute[::-1]}')\n",
        "\n",
        "else:\n",
        "  print('Rute tidak dapat ditemukan')"
      ],
      "metadata": {
        "colab": {
          "base_uri": "https://localhost:8080/"
        },
        "id": "8GdtIw2PVNB4",
        "outputId": "e8df973c-9222-42aa-8861-7e0bb493fae9"
      },
      "execution_count": null,
      "outputs": [
        {
          "output_type": "stream",
          "name": "stdout",
          "text": [
            " \n",
            "Jarak tempuh terpendek dari 6 ke 3 sejauh 54 km!\n",
            ">>>>>>>>>>>>>>>>>>>>>>>>>>>>>>>>>>>>>>>>>>>>>>>>>>\n",
            "Rutenya adalah ['6', '1', '2', '3']\n"
          ]
        }
      ]
    },
    {
      "cell_type": "markdown",
      "source": [
        "##Cara 2 Algoritma Djikstra"
      ],
      "metadata": {
        "id": "bIcSzaYJVR9H"
      }
    },
    {
      "cell_type": "code",
      "source": [
        "import networkx as nx"
      ],
      "metadata": {
        "id": "GknHReK5VTzr"
      },
      "execution_count": null,
      "outputs": []
    },
    {
      "cell_type": "code",
      "source": [
        "class Graph:\n",
        "  def __init__(self, graph):\n",
        "    self.G = nx.Graph()\n",
        "    self.graph = graph\n",
        "    self.nodes = list(graph.keys())\n",
        "\n",
        "  def addEdges(self, a, b, weight):\n",
        "    self.G.add_edge(a, b, weight=weight)"
      ],
      "metadata": {
        "id": "OtzjxdxpVVW1"
      },
      "execution_count": null,
      "outputs": []
    },
    {
      "cell_type": "code",
      "source": [
        "def get_path_weight(path):\n",
        "  path_weight = 0\n",
        "\n",
        "  for index, value in enumerate(path):\n",
        "    try:\n",
        "      for j in graph[value]:\n",
        "        if j['v'] == path[index + 1]:\n",
        "          path_weight += j['w']\n",
        "    except:\n",
        "      break\n",
        "  return path_weight"
      ],
      "metadata": {
        "id": "JRdi3C9hVXIz"
      },
      "execution_count": null,
      "outputs": []
    },
    {
      "cell_type": "code",
      "source": [
        "def find_shortest_path(graph, start, end, path=[]):\n",
        "  path = path + [start]\n",
        "  shortest = None\n",
        "  weights = None\n",
        "\n",
        "  if start == end: return path\n",
        "\n",
        "  for node in graph[start]:\n",
        "    if node['v'] not in path:\n",
        "      newpath = find_shortest_path(graph, node['v'], end, path)\n",
        "      if newpath:\n",
        "        new_wexight = get_path_weight(newpath)\n",
        "        if not weights or new_wexight < weights:\n",
        "          shortest = newpath\n",
        "          weights = new_wexight\n",
        "\n",
        "  return shortest"
      ],
      "metadata": {
        "id": "elg3jdFgVY7F"
      },
      "execution_count": null,
      "outputs": []
    },
    {
      "cell_type": "code",
      "source": [
        "graph = {\n",
        "    '1': [{'v': '2','w': 28}, {'v': '6','w':10}],\n",
        "    '2': [{'v': '7','w': 14}, {'v': '3','w':16}, {'v': '1','w':28}],\n",
        "    '3': [{'v': '2','w': 16}, {'v': '4','w':12}],\n",
        "    '4': [{'v': '3','w': 12}, {'v': '5','w':22}, {'v': '7','w':18}],\n",
        "    '5': [{'v': '7','w': 24}, {'v': '4','w':22}, {'v': '6','w':25}],\n",
        "    '6': [{'v': '1','w': 10}, {'v': '5','w':25}],\n",
        "    '7': [{'v': '2','w': 14}, {'v': '4','w':18}, {'v': '5','w':24}],\n",
        "}"
      ],
      "metadata": {
        "id": "Aje_VpZSVcA_"
      },
      "execution_count": null,
      "outputs": []
    },
    {
      "cell_type": "code",
      "source": [
        "shortest_path = find_shortest_path(graph, '6', '3')\n",
        "weight_shortest_path = get_path_weight(shortest_path)\n",
        "\n",
        "print('Shortest Path :', shortest_path)\n",
        "print('Weight :', weight_shortest_path)"
      ],
      "metadata": {
        "colab": {
          "base_uri": "https://localhost:8080/"
        },
        "id": "cHrCkAwdVdXN",
        "outputId": "686d26a3-c5e2-4963-db48-79ab85908cf6"
      },
      "execution_count": null,
      "outputs": [
        {
          "output_type": "stream",
          "name": "stdout",
          "text": [
            "Shortest Path : ['6', '1', '2', '3']\n",
            "Weight : 54\n"
          ]
        }
      ]
    },
    {
      "cell_type": "markdown",
      "source": [
        "##Cara 3 Algoritma Djikstra"
      ],
      "metadata": {
        "id": "GNeHytouViwU"
      }
    },
    {
      "cell_type": "code",
      "source": [
        "# Library for INT_MAX\n",
        "import sys\n",
        " \n",
        " \n",
        "class Graph():\n",
        " \n",
        "    def __init__(self, vertices):\n",
        "        self.V = vertices\n",
        "        self.graph = [[0 for column in range(vertices)]\n",
        "                      for row in range(vertices)]\n",
        " \n",
        "    def printSolution(self, dist):\n",
        "        print(\"Vertex \\tDistance from Source\")\n",
        "        for node in range(self.V):\n",
        "            print(node, \"\\t\", dist[node])\n",
        " \n",
        "    # A utility function to find the vertex with\n",
        "    # minimum distance value, from the set of vertices\n",
        "    # not yet included in shortest path tree\n",
        "    def minDistance(self, dist, sptSet):\n",
        " \n",
        "        # Initialize minimum distance for next node\n",
        "        min = sys.maxsize\n",
        " \n",
        "        # Search not nearest vertex not in the\n",
        "        # shortest path tree\n",
        "        for u in range(self.V):\n",
        "            if dist[u] < min and sptSet[u] == False:\n",
        "                min = dist[u]\n",
        "                min_index = u\n",
        " \n",
        "        return min_index\n",
        " \n",
        "    # Function that implements Dijkstra's single source\n",
        "    # shortest path algorithm for a graph represented\n",
        "    # using adjacency matrix representation\n",
        "    def dijkstra(self, src):\n",
        " \n",
        "        dist = [sys.maxsize] * self.V\n",
        "        dist[src] = 0\n",
        "        sptSet = [False] * self.V\n",
        " \n",
        "        for cout in range(self.V):\n",
        " \n",
        "            # Pick the minimum distance vertex from\n",
        "            # the set of vertices not yet processed.\n",
        "            # x is always equal to src in first iteration\n",
        "            x = self.minDistance(dist, sptSet)\n",
        " \n",
        "            # Put the minimum distance vertex in the\n",
        "            # shortest path tree\n",
        "            sptSet[x] = True\n",
        " \n",
        "            # Update dist value of the adjacent vertices\n",
        "            # of the picked vertex only if the current\n",
        "            # distance is greater than new distance and\n",
        "            # the vertex in not in the shortest path tree\n",
        "            for y in range(self.V):\n",
        "                if self.graph[x][y] > 0 and sptSet[y] == False and \\\n",
        "                        dist[y] > dist[x] + self.graph[x][y]:\n",
        "                    dist[y] = dist[x] + self.graph[x][y]\n",
        " \n",
        "        self.printSolution(dist)\n",
        " \n",
        " \n",
        "# Driver's code\n",
        "if __name__ == \"__main__\":\n",
        "    g = Graph(7)\n",
        "    g.graph = [[0, 28, 0, 0, 0, 10, 0],\n",
        "               [28, 0, 16, 0, 0, 0, 14],\n",
        "               [0, 16, 0, 12, 0, 0, 0],\n",
        "               [0, 0, 12, 0, 22, 0, 18],\n",
        "               [0, 0, 0, 22, 0, 25, 24],\n",
        "               [10, 0, 0, 0, 25, 0, 0],\n",
        "               [0, 14, 0, 18, 14, 0, 0]\n",
        "               ]\n",
        " \n",
        "    g.dijkstra(0)"
      ],
      "metadata": {
        "colab": {
          "base_uri": "https://localhost:8080/"
        },
        "id": "amrf3BplVf6d",
        "outputId": "5b6b73ad-dbf3-4361-9777-e8c463637a38"
      },
      "execution_count": null,
      "outputs": [
        {
          "output_type": "stream",
          "name": "stdout",
          "text": [
            "Vertex \tDistance from Source\n",
            "0 \t 0\n",
            "1 \t 28\n",
            "2 \t 44\n",
            "3 \t 56\n",
            "4 \t 35\n",
            "5 \t 10\n",
            "6 \t 42\n"
          ]
        }
      ]
    },
    {
      "cell_type": "markdown",
      "source": [
        "##Prim's Algorithm"
      ],
      "metadata": {
        "id": "io5Ey-J5VlbN"
      }
    },
    {
      "cell_type": "code",
      "source": [
        "class Graph:\n",
        "    def __init__(self, num_of_nodes):\n",
        "        self.m_num_of_nodes = num_of_nodes\n",
        "        # Inisialisasi matriks adjacency dengan nol\n",
        "        self.m_graph = [[0 for column in range(num_of_nodes)] \n",
        "                    for row in range(num_of_nodes)]\n",
        "\n",
        "    # Fungsi menambahkan edge sisi dengan weight\n",
        "    def add_edge(self, node1, node2, weight):\n",
        "        self.m_graph[node1][node2] = weight\n",
        "        self.m_graph[node2][node1] = weight\n",
        "    def prims_mst(self):\n",
        "        # Mendefinisikan bilangan yang benar-benar besar yang akan selalu menjadi jarak tertinggi dimanapun posisinya\n",
        "        postitive_inf = float('inf')\n",
        "\n",
        "        # This is a list showing which nodes are already selected \n",
        "        # so we don't pick the same node twice and we can actually know when stop looking\n",
        "        selected_nodes = [False for node in range(self.m_num_of_nodes)]\n",
        "\n",
        "        # Matriks dari hasil MST \n",
        "        result = [[0 for column in range(self.m_num_of_nodes)] \n",
        "                    for row in range(self.m_num_of_nodes)]\n",
        "        \n",
        "        indx = 0\n",
        "        for i in range(self.m_num_of_nodes):\n",
        "            print(self.m_graph[i])\n",
        "        \n",
        "        print(selected_nodes)\n",
        "\n",
        "        # While there are nodes that are not included in the MST, keep looking:\n",
        "        while(False in selected_nodes):\n",
        "            # We use the big number we created before as the possible minimum weight\n",
        "            minimum = postitive_inf\n",
        "\n",
        "            # TItik Memulai Node \n",
        "            start = 0\n",
        "\n",
        "            # Titik akhir node \n",
        "            end = 0\n",
        "\n",
        "            for i in range(self.m_num_of_nodes):\n",
        "                # If the node is part of the MST, look its relationships\n",
        "                if selected_nodes[i]:\n",
        "                    for j in range(self.m_num_of_nodes):\n",
        "                        # If the analyzed node have a path to the ending node AND its not included in the MST (to avoid cycles)\n",
        "                        if (not selected_nodes[j] and self.m_graph[i][j]>0):  \n",
        "                            # If the weight path analized is less than the minimum of the MST\n",
        "                            if self.m_graph[i][j] < minimum:\n",
        "                                # Defines the new minimum weight, the starting vertex and the ending vertex\n",
        "                                minimum = self.m_graph[i][j]\n",
        "                                start, end = i, j\n",
        "            \n",
        "            # Since we added the ending vertex to the MST, it's already selected:\n",
        "            selected_nodes[end] = True\n",
        "\n",
        "            # Filling the MST Adjacency Matrix fields:\n",
        "            result[start][end] = minimum\n",
        "            \n",
        "            if minimum == postitive_inf:\n",
        "                result[start][end] = 0\n",
        "\n",
        "            print(\"(%d.) %d - %d: %d\" % (indx, start, end, result[start][end]))\n",
        "            indx += 1\n",
        "            \n",
        "            result[end][start] = result[start][end]\n",
        "\n",
        "        # Print the resulting MST\n",
        "        # for node1, node2, weight in result:\n",
        "        for i in range(len(result)):\n",
        "            for j in range(0+i, len(result)):\n",
        "                if result[i][j] != 0:\n",
        "                    print(\"%d - %d: %d\" % (i, j, result[i][j]))"
      ],
      "metadata": {
        "id": "VYPYfNELVmga"
      },
      "execution_count": null,
      "outputs": []
    },
    {
      "cell_type": "code",
      "source": [
        "# 7 nodes graph\n",
        "\n",
        "example_graph = Graph(7)\n",
        "\n",
        "example_graph.add_edge(0, 1, 28)\n",
        "example_graph.add_edge(0, 5, 10)\n",
        "example_graph.add_edge(1, 0, 28)\n",
        "example_graph.add_edge(5, 0, 10)\n",
        "example_graph.add_edge(1, 2, 16)\n",
        "example_graph.add_edge(1, 6, 14)\n",
        "example_graph.add_edge(2, 1, 16)\n",
        "example_graph.add_edge(6, 1, 14)\n",
        "example_graph.add_edge(2, 3, 12)\n",
        "example_graph.add_edge(3, 2, 12)\n",
        "example_graph.add_edge(6, 3, 18)\n",
        "example_graph.add_edge(3, 6, 18)\n",
        "example_graph.add_edge(3, 4, 22)\n",
        "example_graph.add_edge(4, 3, 22)\n",
        "example_graph.add_edge(4, 6, 24)\n",
        "example_graph.add_edge(6, 4, 24)\n",
        "example_graph.add_edge(4, 5, 25)\n",
        "example_graph.add_edge(5, 4, 25)"
      ],
      "metadata": {
        "id": "BQhAeAciVn9l"
      },
      "execution_count": null,
      "outputs": []
    },
    {
      "cell_type": "code",
      "source": [
        "example_graph.prims_mst()"
      ],
      "metadata": {
        "colab": {
          "base_uri": "https://localhost:8080/"
        },
        "id": "InpcgtE5Vpuf",
        "outputId": "c220911a-008d-4af4-ea21-57132cea0d4c"
      },
      "execution_count": null,
      "outputs": [
        {
          "output_type": "stream",
          "name": "stdout",
          "text": [
            "[0, 28, 0, 0, 0, 10, 0]\n",
            "[28, 0, 16, 0, 0, 0, 14]\n",
            "[0, 16, 0, 12, 0, 0, 0]\n",
            "[0, 0, 12, 0, 22, 0, 18]\n",
            "[0, 0, 0, 22, 0, 25, 24]\n",
            "[10, 0, 0, 0, 25, 0, 0]\n",
            "[0, 14, 0, 18, 24, 0, 0]\n",
            "[False, False, False, False, False, False, False]\n",
            "(0.) 0 - 0: 0\n",
            "(1.) 0 - 5: 10\n",
            "(2.) 5 - 4: 25\n",
            "(3.) 4 - 3: 22\n",
            "(4.) 3 - 2: 12\n",
            "(5.) 2 - 1: 16\n",
            "(6.) 1 - 6: 14\n",
            "0 - 5: 10\n",
            "1 - 2: 16\n",
            "1 - 6: 14\n",
            "2 - 3: 12\n",
            "3 - 4: 22\n",
            "4 - 5: 25\n"
          ]
        }
      ]
    },
    {
      "cell_type": "markdown",
      "source": [
        "##Kruskal Algorithm"
      ],
      "metadata": {
        "id": "NcNKcVnrVrqF"
      }
    },
    {
      "cell_type": "code",
      "source": [
        "class Graph:\n",
        "    def __init__(self, num_of_nodes):\n",
        "        self.m_num_of_nodes = num_of_nodes\n",
        "        # Inisialisasi matriks adjacency dengan nol\n",
        "        self.m_graph = [[0 for column in range(num_of_nodes)] \n",
        "                    for row in range(num_of_nodes)]\n",
        "\n",
        "    def add_edge(self, node1, node2, weight):\n",
        "        self.m_graph[node1][node2] = weight\n",
        "        self.m_graph[node2][node1] = weight\n",
        "    def prims_mst(self):\n",
        "        # Defining a really big number, that'll always be the highest weight in comparisons\n",
        "        postitive_inf = float('inf')\n",
        "\n",
        "        # This is a list showing which nodes are already selected \n",
        "        # so we don't pick the same node twice and we can actually know when stop looking\n",
        "        selected_nodes = [False for node in range(self.m_num_of_nodes)]\n",
        "\n",
        "        # Matrix of the resulting MST\n",
        "        result = [[0 for column in range(self.m_num_of_nodes)] \n",
        "                    for row in range(self.m_num_of_nodes)]\n",
        "        \n",
        "        indx = 0\n",
        "        for i in range(self.m_num_of_nodes):\n",
        "            print(self.m_graph[i])\n",
        "        \n",
        "        print(selected_nodes)\n",
        "\n",
        "        # While there are nodes that are not included in the MST, keep looking:\n",
        "        while(False in selected_nodes):\n",
        "            # We use the big number we created before as the possible minimum weight\n",
        "            minimum = postitive_inf\n",
        "\n",
        "            # The starting node\n",
        "            start = 0\n",
        "\n",
        "            # The ending node\n",
        "            end = 0\n",
        "\n",
        "            for i in range(self.m_num_of_nodes):\n",
        "                # If the node is part of the MST, look its relationships\n",
        "                if selected_nodes[i]:\n",
        "                    for j in range(self.m_num_of_nodes):\n",
        "                        # If the analyzed node have a path to the ending node AND its not included in the MST (to avoid cycles)\n",
        "                        if (not selected_nodes[j] and self.m_graph[i][j]>0):  \n",
        "                            # If the weight path analized is less than the minimum of the MST\n",
        "                            if self.m_graph[i][j] < minimum:\n",
        "                                # Defines the new minimum weight, the starting vertex and the ending vertex\n",
        "                                minimum = self.m_graph[i][j]\n",
        "                                start, end = i, j\n",
        "            \n",
        "            # Since we added the ending vertex to the MST, it's already selected:\n",
        "            selected_nodes[end] = True\n",
        "\n",
        "            # Filling the MST Adjacency Matrix fields:\n",
        "            result[start][end] = minimum\n",
        "            \n",
        "            if minimum == postitive_inf:\n",
        "                result[start][end] = 0\n",
        "\n",
        "            print(\"(%d.) %d - %d: %d\" % (indx, start, end, result[start][end]))\n",
        "            indx += 1\n",
        "            \n",
        "            result[end][start] = result[start][end]\n",
        "\n",
        "        # Print the resulting MST\n",
        "        # for node1, node2, weight in result:\n",
        "        for i in range(len(result)):\n",
        "            for j in range(0+i, len(result)):\n",
        "                if result[i][j] != 0:\n",
        "                    print(\"%d - %d: %d\" % (i, j, result[i][j]))\n",
        "\n",
        "\n",
        "# Kruskal's algorithm in Python\n",
        "class Graph:\n",
        "    def __init__(self, vertices):\n",
        "        self.V = vertices\n",
        "        self.graph = []\n",
        "\n",
        "    def add_edge(self, u, v, w):\n",
        "        self.graph.append([u, v, w])\n",
        "\n",
        "    # Search function\n",
        "\n",
        "    def find(self, parent, i):\n",
        "        if parent[i] == i:\n",
        "            return i\n",
        "        return self.find(parent, parent[i])\n",
        "\n",
        "    def apply_union(self, parent, rank, x, y):\n",
        "        xroot = self.find(parent, x)\n",
        "        yroot = self.find(parent, y)\n",
        "        if rank[xroot] < rank[yroot]:\n",
        "            parent[xroot] = yroot\n",
        "        elif rank[xroot] > rank[yroot]:\n",
        "            parent[yroot] = xroot\n",
        "        else:\n",
        "            parent[yroot] = xroot\n",
        "            rank[xroot] += 1\n",
        "\n",
        "    #  Applying Kruskal algorithm\n",
        "    def kruskal_algo(self):\n",
        "        result = []\n",
        "        i, e = 0, 0\n",
        "        self.graph = sorted(self.graph, key=lambda item: item[2])\n",
        "        parent = []\n",
        "        rank = []\n",
        "        for node in range(self.V):\n",
        "            parent.append(node)\n",
        "            rank.append(0)\n",
        "        while e < self.V - 1:\n",
        "            u, v, w = self.graph[i]\n",
        "            i = i + 1\n",
        "            x = self.find(parent, u)\n",
        "            y = self.find(parent, v)\n",
        "            if x != y:\n",
        "                e = e + 1\n",
        "                result.append([u, v, w])\n",
        "                self.apply_union(parent, rank, x, y)\n",
        "        for u, v, weight in result:\n",
        "            print(\"%d - %d: %d\" % (u, v, weight))"
      ],
      "metadata": {
        "id": "Zm9roJOjVs-K"
      },
      "execution_count": null,
      "outputs": []
    },
    {
      "cell_type": "code",
      "source": [
        "g = Graph(7)\n",
        "g.add_edge(0, 1, 28)\n",
        "g.add_edge(0, 5, 10)\n",
        "g.add_edge(1, 0, 28)\n",
        "g.add_edge(5, 0, 10)\n",
        "g.add_edge(1, 2, 16)\n",
        "g.add_edge(1, 6, 14)\n",
        "g.add_edge(2, 1, 16)\n",
        "g.add_edge(6, 1, 14)\n",
        "g.add_edge(2, 3, 12)\n",
        "g.add_edge(3, 2, 12)\n",
        "g.add_edge(6, 3, 18)\n",
        "g.add_edge(3, 6, 18)\n",
        "g.add_edge(3, 4, 22)\n",
        "g.add_edge(4, 3, 22)\n",
        "g.add_edge(4, 6, 24)\n",
        "g.add_edge(6, 4, 24)\n",
        "g.add_edge(4, 5, 25)\n",
        "g.add_edge(5, 4, 25)\n",
        "\n",
        "g.kruskal_algo()"
      ],
      "metadata": {
        "colab": {
          "base_uri": "https://localhost:8080/"
        },
        "id": "dDDtt60sVuJw",
        "outputId": "e7b1eab0-c319-4d67-c2c2-27c233a4b8c4"
      },
      "execution_count": null,
      "outputs": [
        {
          "output_type": "stream",
          "name": "stdout",
          "text": [
            "0 - 5: 10\n",
            "2 - 3: 12\n",
            "1 - 6: 14\n",
            "1 - 2: 16\n",
            "3 - 4: 22\n",
            "4 - 5: 25\n"
          ]
        }
      ]
    },
    {
      "cell_type": "markdown",
      "source": [
        "![image.png](data:image/png;base64,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)"
      ],
      "metadata": {
        "id": "rj_opA0xWiLh"
      }
    },
    {
      "cell_type": "markdown",
      "source": [
        "##Analisis\n",
        "- Pada Algoritma Djikstra di dalamnya terdapat code untuk menentukan titik awal dan titik akhir pada code diatas saya mengambil titik awalnya dari 6 dan titik akhir di 3, kemudian ketika code tereksekusi maka akan mencari jarak terpendek dengan nilai paling rendah misalkan pada code diatas hasil jarak terpendeknya adalah 6 > 1 > 2 > 3 dengan panjang rute 54 km. penjelasannya ialah pertama pada titik 6 terdapat 2 pilihan yakni bisa ke 1(10) atau ke 5(25). Karena 10 < 5 maka kita ambil rute dari 6 ke 1 kemudian dari 1 tidak ada piliha lain selain ke 2(28) ketika di titik 2 terdapat 2 pilihan bisa ke 7 atau langsung ke titik akhir 3 maka algoritma akan memilih langsung ke 3(16) karena itu merupakan rute terpendeknya sehinggan didapatkan rute terpendek 6 > 1 > 2 > 3 dengan jaraknya sebesar 10 + 28 + 16 = 54\n",
        "\n",
        "- Algoritma prim dan kruskal merupakan kedua jenis algoritma yang dapat digunakan untuk\n",
        "mencari minimum spanning tree (MST) pada sebuah graf. Dalam pencarian MST di sebuah graf,\n",
        "algoritma prim berorientasi pada titik atau vertex graf, sedangkan algoritma kruskal berorientasi\n",
        "pada bobot (weight) sisi graf. Walaupun perbedaan orientasi namun kedua algoritma tersebut\n",
        "mampu memberikan solusi yang sama. Algoritma prim mempunyai kompleksitas waktu (worst\n",
        "case) O(E Log V), sedangkan algoritma kruskal O( E Log E) dan O(E Log V). Kompleksitas\n",
        "waktu tersebut sangat berpengaruh pada kecepatan waktu eksekusi atau running time dalam\n",
        "menjalankan algoritma proses pencarian MST, dimana algoritma prim akan mempunyai running\n",
        "time tercepat ketika kompleksitas graf rumit sedangkan algoritma kruskal akan lebih cepat jika\n",
        "kompleksitas graf sederhana."
      ],
      "metadata": {
        "id": "QlB8vq6XVvug"
      }
    }
  ]
}