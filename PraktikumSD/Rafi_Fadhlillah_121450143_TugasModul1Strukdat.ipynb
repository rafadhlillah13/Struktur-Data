{
  "nbformat": 4,
  "nbformat_minor": 0,
  "metadata": {
    "colab": {
      "provenance": []
    },
    "kernelspec": {
      "name": "python3",
      "display_name": "Python 3"
    },
    "language_info": {
      "name": "python"
    }
  },
  "cells": [
    {
      "cell_type": "markdown",
      "source": [
        "#TUGAS PRAKTIKUM MODUL 1\n",
        "\n",
        "**Nama : Rafi Fadhlillah**\n",
        "\n",
        "**NIM : 121450143**"
      ],
      "metadata": {
        "id": "tF2pgMX8RbRR"
      }
    },
    {
      "cell_type": "markdown",
      "source": [
        "#Soal No. 1\n",
        "Buatlah sebuah class yang bisa digunakan untuk menyimpan data detail penjualan\n",
        "buku meliputi Judul, Penulis, Halaman, dan Harga. Minimal 5 data buku, lalu\n",
        "tampilkan dalam bentuk dictionary!"
      ],
      "metadata": {
        "id": "5e7Hc5DTR7ZW"
      }
    },
    {
      "cell_type": "code",
      "execution_count": null,
      "metadata": {
        "colab": {
          "base_uri": "https://localhost:8080/"
        },
        "id": "ZvNB0iXNRM4i",
        "outputId": "fb070204-8daf-43d8-d18c-df1005be549c"
      },
      "outputs": [
        {
          "output_type": "stream",
          "name": "stdout",
          "text": [
            "{'Judul': 'The Psychology of Money', 'Penulis': 'Morgan Housel', 'Halaman': '262', 'Harga': 'Rp. 98000'}\n",
            "{'Judul': 'Rich Dad Poor Dad (1997)', 'Penulis': 'Robert Kiyosaki', 'Halaman': '244', 'Harga': 'Rp. 75000'}\n",
            "{'Judul': 'Great Stories of the Quran', 'Penulis': 'Syekh M.A. Jadul Maula', 'Halaman': '672', 'Harga': 'Rp. 170000'}\n",
            "{'Judul': ' Bicara Itu Ada Seninya', 'Penulis': 'Oh Su Hyang', 'Halaman': '256', 'Harga': 'Rp. 67000'}\n",
            "{'Judul': 'Sebuah Seni Untuk Bersikap Bodo Amat', 'Penulis': 'Mark Manson', 'Halaman': '256', 'Harga': 'Rp. 76000'}\n"
          ]
        }
      ],
      "source": [
        "class Data_Penjualan_Buku:\n",
        "    def __init__(self, judul, penulis, halaman, harga):\n",
        "        self.judul = judul\n",
        "        self.penulis = penulis\n",
        "        self.halaman = halaman\n",
        "        self.harga = harga\n",
        "        return\n",
        "    def display(self):\n",
        "        i = 0\n",
        "        while i < len(self.judul):\n",
        "            display = {\"Judul\":self.judul[i], \"Penulis\":self.penulis[i], \"Halaman\":self.halaman[i], \"Harga\":\"Rp. {}\".format(self.harga[i])}\n",
        "            print(display)\n",
        "            i += 1\n",
        "\n",
        "judul = [\"The Psychology of Money\", \"Rich Dad Poor Dad (1997)\", \"Great Stories of the Quran\", \" Bicara Itu Ada Seninya\", \"Sebuah Seni Untuk Bersikap Bodo Amat\"]\n",
        "penulis = [\"Morgan Housel\", \"Robert Kiyosaki\", \"Syekh M.A. Jadul Maula\", \"Oh Su Hyang\", \"Mark Manson\"]\n",
        "halaman = [\"262\", \"244\", \"672\", \"256\", \"256\"]\n",
        "harga = [98000, 75000, 170000, 67000, 76000]\n",
        "data_buku = Data_Penjualan_Buku(judul, penulis, halaman, harga)\n",
        "data_buku.display()"
      ]
    },
    {
      "cell_type": "markdown",
      "source": [
        "#Soal No. 2\n",
        "Buatlah sebuah program sederhana menggunakan OOP untuk menghitung panjang\n",
        "garis yang menghubungkan titik a(x,y) ke titik b(x,y)!"
      ],
      "metadata": {
        "id": "bP27xLqJSLz1"
      }
    },
    {
      "cell_type": "code",
      "source": [
        "from numpy import sqrt\n",
        "\n",
        "class PanjangGaris:\n",
        "  def __init__(self, a, b, c, d):\n",
        "    self.a = a\n",
        "    self.b = b\n",
        "    self.c = c\n",
        "    self.d = d\n",
        "\n",
        "  def hitung(self):\n",
        "    self.rumus =  sqrt((self.c-self.a)**2 + (self.d-self.b)**2)\n",
        "\n",
        "\n",
        "  def display(self):\n",
        "    print(\"x1 : \", str(self.a))\n",
        "    print(\"y1 : \",  str(self.b))\n",
        "    print(\"x2 : \", str(self.c))\n",
        "    print(\"y2 : \", str(self.d))\n",
        "    print(\"Hasil : \",  str(self.rumus))\n",
        "\n",
        "obj = PanjangGaris(2, 5, 10, 9)\n",
        "\n",
        "obj.hitung()\n",
        "obj.display()"
      ],
      "metadata": {
        "colab": {
          "base_uri": "https://localhost:8080/"
        },
        "id": "FmelSuIuSVE3",
        "outputId": "043abb41-27a8-40c9-a621-af3ab17688ab"
      },
      "execution_count": null,
      "outputs": [
        {
          "output_type": "stream",
          "name": "stdout",
          "text": [
            "x1 :  2\n",
            "y1 :  5\n",
            "x2 :  10\n",
            "y2 :  9\n",
            "Hasil :  8.94427190999916\n"
          ]
        }
      ]
    },
    {
      "cell_type": "markdown",
      "source": [
        "#Soal No. 3\n",
        "Buatlah sebuah class Segitiga yang dapat digunakan untuk menghitung keliling\n",
        "segitiga dan Luas segitiga! Gunakan Instance Method!"
      ],
      "metadata": {
        "id": "2FyLeshtSacy"
      }
    },
    {
      "cell_type": "code",
      "source": [
        "class Segitiga:\n",
        "    def __init__(self, a, b, c, tinggi):\n",
        "        self.a = a\n",
        "        self.b = b\n",
        "        self.c = c\n",
        "        self.t = tinggi\n",
        "\n",
        "    def keliling(self):\n",
        "        return self.a + self.b + self.c\n",
        "    def luas(self):\n",
        "        return (self.a*self.t)*0.5\n",
        "    def display(self):\n",
        "      print(\"------- Perhitungan Keliling dan Luas Segitiga -------\")\n",
        "      print(\"alas : \" + str(self.a))\n",
        "      print(\"Sisi Kanan (b) : \" , str(self.b))\n",
        "      print(\"Sisi Kiri (c) : \" , str(self.c))\n",
        "      print(\"tinggi (t) : \" , str(self.t))\n",
        "\n",
        "obj = Segitiga(7, 12, 12, 15)\n",
        "obj.display()\n",
        "\n",
        "print(\"Keliling : \" , str(obj.keliling()))\n",
        "print(\"Luas : \" , str(obj.luas()))"
      ],
      "metadata": {
        "colab": {
          "base_uri": "https://localhost:8080/"
        },
        "id": "Noyg1EqKSpRT",
        "outputId": "3a63ec3b-b1fe-4980-fbdc-aa2c384a8f5f"
      },
      "execution_count": null,
      "outputs": [
        {
          "output_type": "stream",
          "name": "stdout",
          "text": [
            "------- Perhitungan Keliling dan Luas Segitiga -------\n",
            "alas : 7\n",
            "Sisi Kanan (b) :  12\n",
            "Sisi Kiri (c) :  12\n",
            "tinggi (t) :  15\n",
            "Keliling :  31\n",
            "Luas :  52.5\n"
          ]
        }
      ]
    },
    {
      "cell_type": "markdown",
      "source": [
        "#Soal No. 4\n",
        "Gunakan module playsong.py yang disediakan, buatlah Main Program yang dapat\n",
        "menyimpan data daftar putar lagu (playlist) dan menerima input dari pengguna\n",
        "sebagai berikut:\n",
        "\n",
        "g = play\n",
        "\n",
        "f = first\n",
        "\n",
        "n = next\n",
        "\n",
        "p = prev\n",
        "\n",
        "l = last\n",
        "\n",
        "lainnya = stop n\\\n",
        "\n",
        "Kemudian program akan menampilkan judul lagu dan penyanyi yang sedang\n",
        "diputar dan kembali meminta input dari si pengguna. Program berhenti ketika\n",
        "kondisi stop terpenuhi."
      ],
      "metadata": {
        "id": "2JSBSgrcSwaM"
      }
    },
    {
      "cell_type": "code",
      "source": [
        "class DaftarPutar:\n",
        "    def __init__(self, list_lagu, list_penyanyi):\n",
        "        self.list_lagu = list_lagu\n",
        "        self.list_penyanyi = list_penyanyi\n",
        "        self.current_position = 0  \n",
        "  \n",
        "    def __tukar_lagu(self,to_index):\n",
        "        last_pos = len(self.list_lagu) - 1\n",
        "        if to_index > last_pos: # geser ke lagu awal\n",
        "            self.current_position = 0\n",
        "        elif to_index < 0: # geser ke lagu terakhir\n",
        "            self.current_position = last_pos\n",
        "        else: # putar sesuai index\n",
        "            self.current_position = to_index \n",
        "        judul = self.list_lagu[self.current_position]\n",
        "        penyanyi = self.list_penyanyi[self.current_position]\n",
        "        print('Memutar: {} oleh {}'.format(judul, penyanyi))  \n",
        "    \n",
        "    def putar_lagu_pertama(self):\n",
        "        self.__tukar_lagu(0)  \n",
        "    \n",
        "    def putar_lagu_terakhir(self):\n",
        "        last_pos = len(self.list_lagu) - 1\n",
        "        self.__tukar_lagu(last_pos)\n",
        "    \n",
        "    def putar(self):\n",
        "        self.__tukar_lagu(self.current_position)\n",
        "    \n",
        "    def putar_next_lagu(self):\n",
        "        self.__tukar_lagu(self.current_position+1)\n",
        "    \n",
        "    def putar_prev_lagu(self):\n",
        "        self.__tukar_lagu(self.current_position-1)\n",
        "\n",
        "class Lagu:\n",
        "    def __init__(self, judul, penyanyi):\n",
        "        self.judul = judul\n",
        "        self.penyanyi = penyanyi\n",
        "\n",
        "judul_lagu = [\"Sweet Scar\", \"Night Changes\", \"Perfect\", \"Happy\", \"I Have a Dream\", \"Closer\", \"Good Life \"]\n",
        "penyanyi = [\"Weird Genius\", \"One Direction\", \"Ed Sheeran\", \"SkinnyFabs\", \"Westlife\", \"The Chainsmokers\", \"Kehlani & G-Eazy\"]\n",
        "print(\"\\nDaftar Lagu\\n=============\")\n",
        "p = 1\n",
        "for i in judul_lagu:\n",
        "    print(f\"{p}. {i}\")\n",
        "    p += 1\n",
        "print(\"press 'g' to play, 'f' first song, 'l' last song, 'n' next song, 'p' prev song, and 'lainnya' to stop this song\")\n",
        "\n",
        "lagu = Lagu(judul_lagu, penyanyi)\n",
        "main = DaftarPutar(lagu.judul, lagu.penyanyi)\n",
        "\n",
        "while True:\n",
        "    ket = input(\"> \")\n",
        "    if ket == \"g\":\n",
        "        main.putar()\n",
        "    elif ket == \"f\":\n",
        "        main.putar_lagu_pertama()\n",
        "    elif ket == \"n\":\n",
        "        main.putar_next_lagu()\n",
        "    elif ket == \"p\":\n",
        "        main.putar_prev_lagu()\n",
        "    elif ket == \"l\":\n",
        "        main.putar_lagu_terakhir()\n",
        "    else:\n",
        "        print(\"===stop===\")\n",
        "        break"
      ],
      "metadata": {
        "colab": {
          "base_uri": "https://localhost:8080/"
        },
        "id": "R07R735NS9gx",
        "outputId": "2ddfe52a-df5d-4359-e33c-af4fbba15f0e"
      },
      "execution_count": null,
      "outputs": [
        {
          "output_type": "stream",
          "name": "stdout",
          "text": [
            "\n",
            "Daftar Lagu\n",
            "=============\n",
            "1. Sweet Scar\n",
            "2. Night Changes\n",
            "3. Perfect\n",
            "4. Happy\n",
            "5. I Have a Dream\n",
            "6. Closer\n",
            "7. Good Life \n",
            "press 'g' to play, 'f' first song, 'l' last song, 'n' next song, 'p' prev song, and 'lainnya' to stop this song\n",
            "> g\n",
            "Memutar: Sweet Scar oleh Weird Genius\n",
            "> l\n",
            "Memutar: Good Life  oleh Kehlani & G-Eazy\n",
            "> p\n",
            "Memutar: Closer oleh The Chainsmokers\n",
            "> f\n",
            "Memutar: Sweet Scar oleh Weird Genius\n",
            "> n\n",
            "Memutar: Night Changes oleh One Direction\n",
            "> lainnya\n",
            "===stop===\n"
          ]
        }
      ]
    }
  ]
}